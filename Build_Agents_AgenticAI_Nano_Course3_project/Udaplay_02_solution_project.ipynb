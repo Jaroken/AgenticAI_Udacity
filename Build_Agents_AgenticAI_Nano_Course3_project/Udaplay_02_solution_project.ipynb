{
 "cells": [
  {
   "cell_type": "markdown",
   "id": "6fdd0bcb",
   "metadata": {},
   "source": [
    "# [STARTER] Udaplay Project"
   ]
  },
  {
   "cell_type": "markdown",
   "id": "9325b035",
   "metadata": {},
   "source": [
    "## Part 02 - Agent\n",
    "\n",
    "In this part of the project, you'll use your VectorDB to be part of your Agent as a tool.\n",
    "\n",
    "You're building UdaPlay, an AI Research Agent for the video game industry. The agent will:\n",
    "1. Answer questions using internal knowledge (RAG)\n",
    "2. Search the web when needed\n",
    "3. Maintain conversation state\n",
    "4. Return structured outputs\n",
    "5. Store useful information for future use"
   ]
  },
  {
   "cell_type": "markdown",
   "id": "2b42de90",
   "metadata": {},
   "source": [
    "### Setup"
   ]
  },
  {
   "cell_type": "code",
   "execution_count": 374,
   "id": "a963d4ca",
   "metadata": {},
   "outputs": [],
   "source": [
    "# Only needed for Udacity workspace\n",
    "\n",
    "import importlib.util\n",
    "import sys\n",
    "\n",
    "# Check if 'pysqlite3' is available before importing\n",
    "if importlib.util.find_spec(\"pysqlite3\") is not None:\n",
    "    import pysqlite3\n",
    "    sys.modules['sqlite3'] = sys.modules.pop('pysqlite3')"
   ]
  },
  {
   "cell_type": "code",
   "execution_count": 375,
   "id": "fd10c06e",
   "metadata": {},
   "outputs": [],
   "source": [
    "# TODO: Import the necessary libs\n",
    "# For example: \n",
    "import os\n",
    "from dotenv import load_dotenv\n",
    "from lib.agents import Agent\n",
    "from lib.llm import LLM\n",
    "from lib.messages import UserMessage, SystemMessage, ToolMessage, AIMessage\n",
    "from lib.tooling import tool\n",
    "from pydantic import BaseModel\n",
    "from typing import List, Optional\n",
    "import chromadb\n",
    "from datetime import datetime\n",
    "from tavily import TavilyClient\n",
    "from openai import OpenAI"
   ]
  },
  {
   "cell_type": "code",
   "execution_count": 376,
   "id": "87e465d4",
   "metadata": {},
   "outputs": [],
   "source": [
    "# TODO: Load environment variables\n",
    "load_dotenv()\n",
    "\n",
    "OPENAI_API_KEY = os.getenv(\"OPENAI_API_KEY\")\n",
    "TAVILY_API_KEY = os.getenv(\"TAVILY_API_KEY\")"
   ]
  },
  {
   "cell_type": "markdown",
   "id": "27de4729",
   "metadata": {},
   "source": [
    "### Tools"
   ]
  },
  {
   "cell_type": "markdown",
   "id": "46ab2dac",
   "metadata": {},
   "source": [
    "Build at least 3 tools:\n",
    "- retrieve_game: To search the vector DB\n",
    "- evaluate_retrieval: To assess the retrieval performance\n",
    "- game_web_search: If no good, search the web\n"
   ]
  },
  {
   "cell_type": "markdown",
   "id": "ce4f14cd",
   "metadata": {},
   "source": [
    "#### Retrieve Game Tool"
   ]
  },
  {
   "cell_type": "code",
   "execution_count": 377,
   "id": "b25c36dd",
   "metadata": {},
   "outputs": [],
   "source": [
    "# TODO: Create retrieve_game tool\n",
    "# It should use chroma client and collection you created\n",
    "chroma_client = chromadb.PersistentClient(path=\"chromadb\")\n",
    "collection = chroma_client.get_collection(\"udaplay\")\n",
    "\n",
    "class Game(BaseModel):\n",
    "    Platform: str\n",
    "    Name: str\n",
    "    YearOfRelease: int\n",
    "    Description: str\n",
    "    SimilarityScore: float\n",
    "\n",
    "\n",
    "@tool\n",
    "def retrieve_game_tool(query: str) -> List[str]:\n",
    "    \"\"\"\n",
    "    Semantic search: Finds most results in the vector DB\n",
    "    args:\n",
    "    - query: a question about game industry. \n",
    "\n",
    "    You'll receive results as list. Each element contains a dict containing:\n",
    "    - Platform: like Game Boy, Playstation 5, Xbox 360...)\n",
    "    - Name: Name of the Game\n",
    "    - YearOfRelease: Year when that game was released for that platform\n",
    "    - Description: Additional details about the game\n",
    "    - SimilarityScore: How similar the results are to the query\n",
    "    \n",
    "    Returns: retrieved_docs\"\"\"\n",
    "    \n",
    "    print('Using Tool: **retrieve_game_tool**')\n",
    "    print(f'Looking for documents to address query: {query}')\n",
    "    result = collection.query(\n",
    "        query_texts=[query],\n",
    "        n_results=3,\n",
    "        include=['documents','distances','metadatas'])\n",
    "    print(f\"{len(result['documents'][0])} documents found.\")\n",
    "\n",
    "    retrieved_docs =[]\n",
    "    try:\n",
    "        print(f\"______________ Documents Related to: {query} _______________\")\n",
    "        \n",
    "        for i, (d, dist, meta) in enumerate(zip(result['documents'][0],result['distances'][0],result['metadatas'][0])):           \n",
    "            retrieved_docs.append(f\"Platform: {meta['Platform']}\\n, Name: {meta['Name']}\\n, YearOfRelease: {meta['YearOfRelease']}\\n, Description: {meta['Description']}\\n, SimilarityScore: {round(1 - dist,2)}\\n\")\n",
    "   \n",
    "    \n",
    "    except:\n",
    "        None\n",
    "    print(f'{retrieved_docs}')\n",
    "    return {'answer':retrieved_docs}\n"
   ]
  },
  {
   "cell_type": "markdown",
   "id": "910dc945",
   "metadata": {},
   "source": [
    "#### Evaluate Retrieval Tool"
   ]
  },
  {
   "cell_type": "code",
   "execution_count": 378,
   "id": "0d9d014b",
   "metadata": {},
   "outputs": [],
   "source": [
    "# TODO: Create evaluate_retrieval tool\n",
    "# You might use an LLM as judge in this tool to evaluate the performance\n",
    "# You need to prompt that LLM with something like:\n",
    "# \"Your task is to evaluate if the documents are enough to respond the query. \"\n",
    "# \"Give a detailed explanation, so it's possible to take an action to accept it or not.\"\n",
    "# Use EvaluationReport to parse the result\n",
    "\n",
    "   \n",
    "@tool\n",
    "def evaluate_retrieval_tool(query: str, retrieved_docs: list[str]) -> dict:\n",
    "    \"\"\"Based on the user's query and on the list of retrieved documents, \n",
    "   it will analyze the usability of the documents to respond to that query. \n",
    "   args: \n",
    "   - query: original query from user\n",
    "   - retrieved_docs: retrieved documents most similar to the user query in the Vector Database\n",
    "   The result includes:\n",
    "   - useful: whether the documents are useful to answer the query\n",
    "   - description: description about the evaluation result\"\"\"\n",
    "   \n",
    "    print('Using Tool **evaluate_retrieval_tool**')\n",
    "    client = OpenAI(api_key=OPENAI_API_KEY, base_url=\"https://openai.vocareum.com/v1\")\n",
    "    \n",
    "\n",
    "    eval_query = (\"Your task is to evaluate if the documents are enough to respond the query. \"\n",
    "     \"Give a detailed explanation, so it's possible to take an action to accept it or not.\"\n",
    "     \"\"\"Return Results in JSON Format, like so:\n",
    "     {\n",
    "                 \"useful\": true or false,\n",
    "                 \"description\": \"detailed explanation to help understand why it was or was not useful\",\n",
    "                 \"relevant_info\": \"If useful = true then return the answer to the query here\"\n",
    "\n",
    "    }\"\"\")\n",
    "\n",
    "    print(f\"Evaluating {len(retrieved_docs)} documents for usefulness to query: {query}\")\n",
    "    result = list()\n",
    "    \n",
    "    \n",
    "    message = [{\"role\":\"system\", \"content\":eval_query},\n",
    "               {\"role\":\"user\", \"content\":(f\"query: {query}\\n \"\n",
    "                         f\"document: {retrieved_docs}\\n\")}\n",
    "                ]\n",
    "    response = client.chat.completions.create(\n",
    "                model='gpt-4o-mini',\n",
    "                messages=message,\n",
    "                temperature=0.2)\n",
    "\n",
    "    result.append(response.choices[0].message.content)\n",
    "\n",
    "    return result\n",
    "     "
   ]
  },
  {
   "cell_type": "markdown",
   "id": "c7935a26",
   "metadata": {},
   "source": [
    "#### Game Web Search Tool"
   ]
  },
  {
   "cell_type": "code",
   "execution_count": 379,
   "id": "2ad698aa",
   "metadata": {},
   "outputs": [],
   "source": [
    "# TODO: Create game_web_search tool\n",
    "# Please use Tavily client to search the web\n",
    "# Tool Docstring:\n",
    "#    Semantic search: Finds most results in the vector DB\n",
    "#    args:\n",
    "#    - question: a question about game industry. \n",
    "class GameWebSearchResults(BaseModel):\n",
    "    \"\"\"Representation of results from a web search\"\"\"\n",
    "    title: str\n",
    "    url: str\n",
    "    content: str\n",
    "    score: float\n",
    "\n",
    "@tool\n",
    "def game_web_search_tool(query: str) -> List[dict]:\n",
    "    \"\"\"\n",
    "    Based on the user's query about the game industry perform a web search. \n",
    "   args: \n",
    "   - query (str): game industry query from user\n",
    "   The result includes:\n",
    "       List[GameWebSearchResults]: list object containing a dictionary of results from a web search, including:\n",
    "           title: The title of the search result.\n",
    "           url: The URL of the search result.\n",
    "           content: A snippet of the most query-related content extracted from the scraped URL.\n",
    "           score: A relevance score for the result.\"\"\"\n",
    "\n",
    "    print('Using Tool: **game_web_search_tool**')\n",
    "    api_key = os.getenv(\"TAVILY_API_KEY\")\n",
    "    client = TavilyClient(api_key=api_key)\n",
    "    search_depth = \"advanced\"\n",
    "    \n",
    "    # Perform the search\n",
    "    search_result = client.search(\n",
    "        query=query,\n",
    "        search_depth=search_depth,\n",
    "        include_answer=True,\n",
    "        include_raw_content=False,\n",
    "        include_images=False\n",
    "    )\n",
    "    \n",
    "    output= {\n",
    "        \"answer\": search_result.get(\"answer\", \"\"),\n",
    "        \"results\": search_result.get(\"results\",[]),\n",
    "        \"search_metadata\": {\n",
    "            \"timestamp\": datetime.now().isoformat(),\n",
    "            \"query\": query\n",
    "        }\n",
    "    }\n",
    "    out: List[Dict] = []\n",
    "    for o in output.get(\"results\",[]):\n",
    "        out.append(json.dumps({\"title\":o.get(\"title\",\"\"),\n",
    "                    \"url\": o.get(\"url\",\"\"),\n",
    "                    \"content\": o.get(\"content\"),\n",
    "                    \"score\": o.get(\"score\")}))\n",
    "    return {'answer':out}    "
   ]
  },
  {
   "cell_type": "markdown",
   "id": "439b2e58-9ab9-413b-b6ba-d89ac6f7a04d",
   "metadata": {},
   "source": [
    "### Final Answer Tool"
   ]
  },
  {
   "cell_type": "code",
   "execution_count": 380,
   "id": "bb156596-24ab-446f-afd3-d3804710e400",
   "metadata": {},
   "outputs": [],
   "source": [
    "class final_answer(BaseModel):\n",
    "    \"\"\"Representation of final answer and where the answer came from\"\"\"\n",
    "    answer: str\n",
    "    citations: dict\n",
    "\n",
    "@tool\n",
    "def final_answer_tool(final_response: str, citations:dict) -> dict:\n",
    "    \"\"\"Returns final response and the citations to the query.\n",
    "    Args: \n",
    "        final_response: final human readable answer.\n",
    "        citations: dict of sources as either file title or the website it was retrieved from. Format should either be 'internal database object on %name of game%', or '%site name%: http'\n",
    "    Returns:\n",
    "        {'answer': {\"final_response\": final_response, \"citations\":citations}}\n",
    "    \"\"\"\n",
    "    return {'answer': {\"final_response\": final_response, \"citations\":citations}}\n",
    "    "
   ]
  },
  {
   "cell_type": "markdown",
   "id": "df844b3b",
   "metadata": {},
   "source": [
    "### Agent"
   ]
  },
  {
   "cell_type": "code",
   "execution_count": 407,
   "id": "31c56281",
   "metadata": {},
   "outputs": [],
   "source": [
    "# TODO: Create your Agent abstraction using StateMachine\n",
    "# Equip with an appropriate model\n",
    "# Craft a good set of instructions \n",
    "from lib.tooling import Tool, ToolCall, Union\n",
    "from typing import TypedDict, Optional\n",
    "from lib.state_machine import StateMachine, Run, EntryPoint, Step, Termination\n",
    "import json\n",
    "from lib.memory import ShortTermMemory\n",
    "tool_list = [game_web_search_tool,evaluate_retrieval_tool, retrieve_game_tool, final_answer_tool]\n",
    "\n",
    "class AgentState(TypedDict):\n",
    "    user_query: str  # The current user query being processed\n",
    "    instructions: str  # System instructions for the agent\n",
    "    messages: List[dict]  # List of conversation messages\n",
    "    current_tool_calls: Optional[List[ToolCall]]  # Current pending tool calls\n",
    "    total_tokens: int\n",
    "\n",
    "class Agent:\n",
    "    def __init__(self, \n",
    "                 model_name: str,\n",
    "                 instructions: str, \n",
    "                 tools: List[Tool] = None,\n",
    "                 temperature: float = 0.7):\n",
    "        \"\"\"\n",
    "        Initialize an Agent instance\n",
    "        \n",
    "        Args:\n",
    "            model_name: Name/identifier of the LLM model to use\n",
    "            instructions: System instructions for the agent\n",
    "            tools: Optional licontentst of tools available to the agent\n",
    "            temperature: Temperature parameter for LLM (default: 0.7)\n",
    "        \"\"\"\n",
    "        self.instructions = instructions\n",
    "        self.tools = tools if tools else []\n",
    "        self.model_name = model_name\n",
    "        self.temperature = temperature\n",
    "        self.memory = ShortTermMemory()\n",
    "                \n",
    "        # Initialize state machine\n",
    "        self.workflow = self._create_state_machine()\n",
    "\n",
    "    def _prepare_messages_step(self, state: AgentState) -> AgentState:\n",
    "        \"\"\"Step logic: Prepare messages for LLM consumption\"\"\"\n",
    "        messages = state.get(\"messages\", [])\n",
    "            \n",
    "        # If no messages exist, start with system message\n",
    "        if not messages:\n",
    "            messages = [SystemMessage(content=state[\"instructions\"])]\n",
    "            \n",
    "        # Add the new user message\n",
    "        messages.append(UserMessage(content=state[\"user_query\"]))\n",
    "        \n",
    "        return {\n",
    "            \"messages\": messages,\n",
    "            \"session_id\": state[\"session_id\"]\n",
    "        }\n",
    "\n",
    "    def _llm_step(self, state: AgentState) -> AgentState:\n",
    "        \"\"\"Step logic: Process the current state through the LLM\"\"\"\n",
    "        openai_api_key = os.getenv(\"OPENAI_API_KEY\")\n",
    "        # Initialize LLM\n",
    "        llm = LLM(\n",
    "            model=self.model_name,\n",
    "            temperature=self.temperature,\n",
    "            tools=self.tools,\n",
    "            api_key=openai_api_key,\n",
    "            base_url=\"https://openai.vocareum.com/v1\"\n",
    "        )\n",
    "\n",
    "        response = llm.invoke(state[\"messages\"])\n",
    "        tool_calls = response.tool_calls if response.tool_calls else None\n",
    "        \n",
    "        current_total = state.get(\"total_tokens\", 0)\n",
    "        if response.token_usage:\n",
    "            current_total += response.token_usage.total_tokens\n",
    "            \n",
    "        # Create AI message with content and tool calls\n",
    "        ai_message = AIMessage(content=response.content, tool_calls=tool_calls)\n",
    "        \n",
    "        \n",
    "        return {\n",
    "            \"messages\": state[\"messages\"] + [ai_message],\n",
    "            \"current_tool_calls\": tool_calls,\n",
    "            \"session_id\": state[\"session_id\"],\n",
    "            \"total_tokens\": current_total,\n",
    "        }\n",
    "\n",
    "    def _tool_step(self, state: AgentState) -> AgentState:\n",
    "        \"\"\"Step logic: Execute any pending tool calls\"\"\"\n",
    "        tool_calls = state[\"current_tool_calls\"] or []\n",
    "        tool_messages = []\n",
    "        \n",
    "        for call in tool_calls:\n",
    "            # Access tool call data correctly\n",
    "            function_name = call.function.name\n",
    "            function_args = json.loads(call.function.arguments)\n",
    "            tool_call_id = call.id\n",
    "            # Find the matching tool\n",
    "            tool = next((t for t in self.tools if t.name == function_name), None)\n",
    "            if tool:\n",
    "                result = tool(**function_args)\n",
    "                tool_messages.append(\n",
    "                    ToolMessage(\n",
    "                        content=json.dumps(result), \n",
    "                        tool_call_id=tool_call_id, \n",
    "                        name=function_name, \n",
    "                    )\n",
    "                )\n",
    "        \n",
    "        # Clear tool calls and add results to messages\n",
    "        return {\n",
    "            \"messages\": state[\"messages\"] + tool_messages,\n",
    "            \"current_tool_calls\": None,\n",
    "            \"session_id\": state[\"session_id\"]\n",
    "        }\n",
    "\n",
    "    def _create_state_machine(self) -> StateMachine[AgentState]:\n",
    "        \"\"\"Create the internal state machine for the agent\"\"\"\n",
    "        machine = StateMachine[AgentState](AgentState)\n",
    "        \n",
    "        # Create steps\n",
    "        entry = EntryPoint[AgentState]()\n",
    "        message_prep = Step[AgentState](\"message_prep\", self._prepare_messages_step)\n",
    "        llm_processor = Step[AgentState](\"llm_processor\", self._llm_step)\n",
    "        tool_executor = Step[AgentState](\"tool_executor\", self._tool_step)\n",
    "        termination = Termination[AgentState]()\n",
    "        \n",
    "        machine.add_steps([entry, message_prep, llm_processor, tool_executor, termination])\n",
    "        \n",
    "        # Add transitions\n",
    "        machine.connect(entry, message_prep)\n",
    "        machine.connect(message_prep, llm_processor)\n",
    "        \n",
    "        # Transition based on whether there are tool calls\n",
    "        def check_tool_calls(state: AgentState) -> Union[Step[AgentState], str]:\n",
    "            \"\"\"Transition logic: Check if there are tool calls\"\"\"\n",
    "            if state.get(\"current_tool_calls\"):\n",
    "                return tool_executor\n",
    "            return termination\n",
    "        \n",
    "        machine.connect(llm_processor, [tool_executor, termination], check_tool_calls)\n",
    "        machine.connect(tool_executor, llm_processor)  # Go back to llm after tool execution\n",
    "        \n",
    "        return machine\n",
    "\n",
    "    def invoke(self, query: str,  session_id: Optional[str] = None) -> Run:\n",
    "        \"\"\"\n",
    "        Run the agent on a query\n",
    "        \n",
    "        Args:\n",
    "            query: The user's query to process\n",
    "            session_id: Optional session identifier (uses \"default\" if None)\n",
    "            \n",
    "        Returns:\n",
    "            The final run object after processing\n",
    "        \"\"\"\n",
    "        session_id = session_id or \"default\"\n",
    "\n",
    "        # Create session if it doesn't exist\n",
    "        self.memory.create_session(session_id)\n",
    "\n",
    "        # Get previous messages from last run if available\n",
    "        previous_messages = []\n",
    "        last_run: Run = self.memory.get_last_object(session_id)\n",
    "        if last_run:\n",
    "            last_state = last_run.get_final_state()\n",
    "            if last_state:\n",
    "                previous_messages = last_state[\"messages\"]\n",
    "        \n",
    "        initial_state: AgentState = {\n",
    "            \"user_query\": query,\n",
    "            \"instructions\": self.instructions,\n",
    "            \"messages\": previous_messages,\n",
    "            \"current_tool_calls\":None,\n",
    "            \"session_id\":session_id\n",
    "        }\n",
    "\n",
    "        run_object = self.workflow.run(initial_state)\n",
    "\n",
    "        self.memory.add(run_object, session_id)\n",
    "\n",
    "        return run_object\n",
    "\n",
    "\n",
    "\n",
    "game_agent = Agent(\n",
    "    model_name=\"gpt-4o-mini\",\n",
    "    tools=tool_list,\n",
    "    instructions=(\n",
    "        \"You're an AI Agent very good at ideo game industry research \"\n",
    "        \"You can answer multistep questions by sequentially calling functions. \"\n",
    "        \"You follow a pattern of of Thought and Action. \"\n",
    "        \"Last tool used is always  **final_answer_tool** when usable document or information from web search is recieved from tool call.\\n\" \n",
    "        \"Create a plan of execution: \"\n",
    "        \"- Use Thought to describe your thoughts about the question you have been asked. \"\n",
    "        \"- Use Action to specify one of the tools available to you. if you don't have a tool available, you can respond directly.\"\n",
    "        \"When you think it's over, return the answer. Never try to respond directly if the question needs a tool. \"\n",
    "        \"But if you don't have a tool available, you can respond directly. \"\n",
    "        \"Tools Included: \\n\"\n",
    "        \" - **game_web_search_tool**: Searches the web for supplimentary information about a video game.\\n\"\n",
    "        \" - **evaluate_retrieval_tool**: Evaluates relevance of the retrieved documents from the retrieve_game_tool.\\n\"\n",
    "        \" - **retrieve_game_tool**: Searches an internal collection for relevant documents about a video game.\\n\"\n",
    "        \" - **final_answer_tool**: Provides the final answer to the user's query and ends the agent process.\\n\"\n",
    "        \"\\n\"\n",
    "        \" Tool use instructions:\\n\"\n",
    "        \"    1. Use **retrieve_game_tool** to search for information to answer a specific query\\n\"\n",
    "        \"    2. Use **evaluate_retrieval_tool** to evaluate how well the retrieved documents in step 1 address the user query. DO NOT USE FOR **game_web_search_tool** RESULTS!\\n\"\n",
    "        \"    3. If Step 2 provides a useful document to anwer the question, then call **final_answer_tool**, otherwise, continue.\\n\"\n",
    "        \"    3. Use **game_web_search_tool** to search the internet if the documents retrieved were not deemed useful in the evaluation provided by evaluate_retrieval_tool.\\n\"\n",
    "        \"    4. If web search did not return relevant results, try **game_web_search_tool** again with a slightly modified version of the user question.\\n\"\n",
    "        \"    5. If web search provided relevant results call **final_answer_tool**\\n\" \n",
    "        \"\\n\"    \n",
    "    )\n",
    ")\n",
    "\n"
   ]
  },
  {
   "cell_type": "code",
   "execution_count": 382,
   "id": "0ec23893",
   "metadata": {},
   "outputs": [
    {
     "name": "stdout",
     "output_type": "stream",
     "text": [
      "[StateMachine] Starting: __entry__\n",
      "[StateMachine] Executing step: message_prep\n",
      "[StateMachine] Executing step: llm_processor\n",
      "Using Tool: **retrieve_game_tool**\n",
      "Looking for documents to address query: Pokémon Gold and Silver release date\n",
      "3 documents found.\n",
      "______________ Documents Related to: Pokémon Gold and Silver release date _______________\n",
      "['Platform: Game Boy Color\\n, Name: Pokémon Gold and Silver\\n, YearOfRelease: 1999\\n, Description: Second-generation Pokémon games introducing new regions, Pokémon, and gameplay mechanics.\\n, SimilarityScore: 0.87\\n', 'Platform: Game Boy Advance\\n, Name: Pokémon Ruby and Sapphire\\n, YearOfRelease: 2002\\n, Description: Third-generation Pokémon games set in the Hoenn region, featuring new Pokémon and double battles.\\n, SimilarityScore: 0.84\\n', 'Platform: Nintendo Switch\\n, Name: Mario Kart 8 Deluxe\\n, YearOfRelease: 2017\\n, Description: An enhanced version of Mario Kart 8, featuring new characters, tracks, and improved gameplay mechanics.\\n, SimilarityScore: 0.77\\n']\n",
      "[StateMachine] Executing step: tool_executor\n",
      "[StateMachine] Executing step: llm_processor\n",
      "Using Tool **evaluate_retrieval_tool**\n",
      "Evaluating 3 documents for usefulness to query: Pokémon Gold and Silver release date\n",
      "[StateMachine] Executing step: tool_executor\n",
      "[StateMachine] Executing step: llm_processor\n",
      "[StateMachine] Executing step: tool_executor\n",
      "[StateMachine] Executing step: llm_processor\n",
      "[StateMachine] Terminating: __termination__\n"
     ]
    }
   ],
   "source": [
    "# TODO: Invoke your agent\n",
    "# - When Pokémon Gold and Silver was released?\n",
    "result_1 = game_agent.invoke(query=\"When Pokémon Gold and Silver was released?\")"
   ]
  },
  {
   "cell_type": "code",
   "execution_count": 383,
   "id": "967eee27-b041-49d0-a46c-fa38e94c889c",
   "metadata": {},
   "outputs": [
    {
     "name": "stdout",
     "output_type": "stream",
     "text": [
      "[SystemMessage(role='system', content=\"You're an AI Agent very good at ideo game industry research You can answer multistep questions by sequentially calling functions. You follow a pattern of of Thought and Action. Last tool used is always  **final_answer_tool** when usable document or information from web search is recieved from tool call.\\nCreate a plan of execution: - Use Thought to describe your thoughts about the question you have been asked. - Use Action to specify one of the tools available to you. if you don't have a tool available, you can respond directly.When you think it's over, return the answer. Never try to respond directly if the question needs a tool. But if you don't have a tool available, you can respond directly. Tools Included: \\n - **game_web_search_tool**: Searches the web for supplimentary information about a video game.\\n - **evaluate_retrieval_tool**: Evaluates relevance of the retrieved documents from the retrieve_game_tool.\\n - **retrieve_game_tool**: Searches an internal collection for relevant documents about a video game.\\n - **final_answer_tool**: Provides the final answer to the user's query and ends the agent process.\\n\\n Tool use instructions:\\n    1. Use **retrieve_game_tool** to search for information to answer a specific query\\n    2. Use **evaluate_retrieval_tool** to evaluate how well the retrieved documents in step 1 address the user query. DO NOT USE FOR **game_web_search_tool** RESULTS!\\n    3. If Step 2 provides a useful document to anwer the question, then call **final_answer_tool**, otherwise, continue.\\n    3. Use **game_web_search_tool** to search the internet if the documents retrieved were not deemed useful in the evaluation provided by evaluate_retrieval_tool.\\n    4. If web search did not return relevant results, try **game_web_search_tool** again with a slightly modified version of the user question.\\n    5. If web search provided relevant results call **final_answer_tool**\\n\\n\"), UserMessage(role='user', content='When Pokémon Gold and Silver was released?'), AIMessage(role='assistant', content=None, tool_calls=[ChatCompletionMessageFunctionToolCall(id='call_iSwNPxRaQ5tskPUccrOeUj5t', function=Function(arguments='{\"query\":\"Pokémon Gold and Silver release date\"}', name='retrieve_game_tool'), type='function')], token_usage=None), ToolMessage(role='tool', content='{\"answer\": [\"Platform: Game Boy Color\\\\n, Name: Pok\\\\u00e9mon Gold and Silver\\\\n, YearOfRelease: 1999\\\\n, Description: Second-generation Pok\\\\u00e9mon games introducing new regions, Pok\\\\u00e9mon, and gameplay mechanics.\\\\n, SimilarityScore: 0.87\\\\n\", \"Platform: Game Boy Advance\\\\n, Name: Pok\\\\u00e9mon Ruby and Sapphire\\\\n, YearOfRelease: 2002\\\\n, Description: Third-generation Pok\\\\u00e9mon games set in the Hoenn region, featuring new Pok\\\\u00e9mon and double battles.\\\\n, SimilarityScore: 0.84\\\\n\", \"Platform: Nintendo Switch\\\\n, Name: Mario Kart 8 Deluxe\\\\n, YearOfRelease: 2017\\\\n, Description: An enhanced version of Mario Kart 8, featuring new characters, tracks, and improved gameplay mechanics.\\\\n, SimilarityScore: 0.77\\\\n\"]}', tool_call_id='call_iSwNPxRaQ5tskPUccrOeUj5t', name='retrieve_game_tool'), AIMessage(role='assistant', content=None, tool_calls=[ChatCompletionMessageFunctionToolCall(id='call_FfqQHMr5TaRt4Dk9rGgDX3bi', function=Function(arguments='{\"query\":\"Pokémon Gold and Silver release date\",\"retrieved_docs\":[\"Platform: Game Boy Color\\\\n, Name: Pok\\\\u00101mon Gold and Silver\\\\n, YearOfRelease: 1999\\\\n, Description: Second-generation Pok\\\\u00101mon games introducing new regions, Pok\\\\u00101mon, and gameplay mechanics.\\\\n, SimilarityScore: 0.87\\\\n\",\"Platform: Game Boy Advance\\\\n, Name: Pok\\\\u00101mon Ruby and Sapphire\\\\n, YearOfRelease: 2002\\\\n, Description: Third-generation Pok\\\\u00101mon games set in the Hoenn region, featuring new Pok\\\\u00101mon and double battles.\\\\n, SimilarityScore: 0.84\\\\n\",\"Platform: Nintendo Switch\\\\n, Name: Mario Kart 8 Deluxe\\\\n, YearOfRelease: 2017\\\\n, Description: An enhanced version of Mario Kart 8, featuring new characters, tracks, and improved gameplay mechanics.\\\\n, SimilarityScore: 0.77\\\\n\"]}', name='evaluate_retrieval_tool'), type='function')], token_usage=None), ToolMessage(role='tool', content='[\"{\\\\n    \\\\\"useful\\\\\": true,\\\\n    \\\\\"description\\\\\": \\\\\"The document contains information about the release date of Pok\\\\u00e9mon Gold and Silver, specifically stating that they were released in 1999. This directly answers the query regarding the release date of these games.\\\\\",\\\\n    \\\\\"relevant_info\\\\\": \\\\\"Pok\\\\u00e9mon Gold and Silver were released in 1999.\\\\\"\\\\n}\"]', tool_call_id='call_FfqQHMr5TaRt4Dk9rGgDX3bi', name='evaluate_retrieval_tool'), AIMessage(role='assistant', content=None, tool_calls=[ChatCompletionMessageFunctionToolCall(id='call_ltf4Xmp7rWAfOnPwIk8JybUj', function=Function(arguments='{\"final_response\":\"Pokémon Gold and Silver were released in 1999.\",\"citations\":\"internal database object on Pokémon Gold and Silver\"}', name='final_answer_tool'), type='function')], token_usage=None), ToolMessage(role='tool', content='{\"answer\": {\"final_response\": \"Pok\\\\u00e9mon Gold and Silver were released in 1999.\", \"citations\": \"internal database object on Pok\\\\u00e9mon Gold and Silver\"}}', tool_call_id='call_ltf4Xmp7rWAfOnPwIk8JybUj', name='final_answer_tool'), AIMessage(role='assistant', content='Pokémon Gold and Silver were released in 1999.', tool_calls=None, token_usage=None)]\n"
     ]
    }
   ],
   "source": [
    "print(result_1.get_final_state()[\"messages\"])"
   ]
  },
  {
   "cell_type": "code",
   "execution_count": 400,
   "id": "b89c1c6b-d96b-4e53-aa56-b14fcd7d2a7a",
   "metadata": {},
   "outputs": [
    {
     "data": {
      "text/plain": [
       "'{\"answer\": {\"final_response\": \"Pok\\\\u00e9mon Gold and Silver were released in 1999.\", \"citations\": \"internal database object on Pok\\\\u00e9mon Gold and Silver\"}}'"
      ]
     },
     "execution_count": 400,
     "metadata": {},
     "output_type": "execute_result"
    }
   ],
   "source": [
    "result_1.get_final_state()[\"messages\"][-2].content"
   ]
  },
  {
   "cell_type": "code",
   "execution_count": 385,
   "id": "e5ae68f3-f744-402c-a68e-33400cba2b77",
   "metadata": {},
   "outputs": [
    {
     "name": "stdout",
     "output_type": "stream",
     "text": [
      "[StateMachine] Starting: __entry__\n",
      "[StateMachine] Executing step: message_prep\n",
      "[StateMachine] Executing step: llm_processor\n",
      "Using Tool: **retrieve_game_tool**\n",
      "Looking for documents to address query: first 3D platformer Mario game\n",
      "3 documents found.\n",
      "______________ Documents Related to: first 3D platformer Mario game _______________\n",
      "[\"Platform: Nintendo 64\\n, Name: Super Mario 64\\n, YearOfRelease: 1996\\n, Description: A groundbreaking 3D platformer that set new standards for the genre, featuring Mario's quest to rescue Princess Peach.\\n, SimilarityScore: 0.9\\n\", 'Platform: Super Nintendo Entertainment System (SNES)\\n, Name: Super Mario World\\n, YearOfRelease: 1990\\n, Description: A classic platformer where Mario embarks on a quest to save Princess Toadstool and Dinosaur Land from Bowser.\\n, SimilarityScore: 0.87\\n', 'Platform: Nintendo Switch\\n, Name: Mario Kart 8 Deluxe\\n, YearOfRelease: 2017\\n, Description: An enhanced version of Mario Kart 8, featuring new characters, tracks, and improved gameplay mechanics.\\n, SimilarityScore: 0.81\\n']\n",
      "[StateMachine] Executing step: tool_executor\n",
      "[StateMachine] Executing step: llm_processor\n",
      "Using Tool **evaluate_retrieval_tool**\n",
      "Evaluating 3 documents for usefulness to query: first 3D platformer Mario game\n",
      "[StateMachine] Executing step: tool_executor\n",
      "[StateMachine] Executing step: llm_processor\n",
      "[StateMachine] Executing step: tool_executor\n",
      "[StateMachine] Executing step: llm_processor\n",
      "[StateMachine] Terminating: __termination__\n"
     ]
    }
   ],
   "source": [
    "# - Which one was the first 3D platformer Mario game?\n",
    "result_2 = game_agent.invoke(query=\"Which one was the first 3D platformer Mario game?\")"
   ]
  },
  {
   "cell_type": "code",
   "execution_count": 386,
   "id": "ea1aa5e6-e2b9-410b-97be-3955a6295df3",
   "metadata": {},
   "outputs": [
    {
     "name": "stdout",
     "output_type": "stream",
     "text": [
      "[SystemMessage(role='system', content=\"You're an AI Agent very good at ideo game industry research You can answer multistep questions by sequentially calling functions. You follow a pattern of of Thought and Action. Last tool used is always  **final_answer_tool** when usable document or information from web search is recieved from tool call.\\nCreate a plan of execution: - Use Thought to describe your thoughts about the question you have been asked. - Use Action to specify one of the tools available to you. if you don't have a tool available, you can respond directly.When you think it's over, return the answer. Never try to respond directly if the question needs a tool. But if you don't have a tool available, you can respond directly. Tools Included: \\n - **game_web_search_tool**: Searches the web for supplimentary information about a video game.\\n - **evaluate_retrieval_tool**: Evaluates relevance of the retrieved documents from the retrieve_game_tool.\\n - **retrieve_game_tool**: Searches an internal collection for relevant documents about a video game.\\n - **final_answer_tool**: Provides the final answer to the user's query and ends the agent process.\\n\\n Tool use instructions:\\n    1. Use **retrieve_game_tool** to search for information to answer a specific query\\n    2. Use **evaluate_retrieval_tool** to evaluate how well the retrieved documents in step 1 address the user query. DO NOT USE FOR **game_web_search_tool** RESULTS!\\n    3. If Step 2 provides a useful document to anwer the question, then call **final_answer_tool**, otherwise, continue.\\n    3. Use **game_web_search_tool** to search the internet if the documents retrieved were not deemed useful in the evaluation provided by evaluate_retrieval_tool.\\n    4. If web search did not return relevant results, try **game_web_search_tool** again with a slightly modified version of the user question.\\n    5. If web search provided relevant results call **final_answer_tool**\\n\\n\"), UserMessage(role='user', content='Which one was the first 3D platformer Mario game?'), AIMessage(role='assistant', content=None, tool_calls=[ChatCompletionMessageFunctionToolCall(id='call_40wg1dRa3QmGRZp8hxUDEeYT', function=Function(arguments='{\"query\":\"first 3D platformer Mario game\"}', name='retrieve_game_tool'), type='function')], token_usage=None), ToolMessage(role='tool', content='{\"answer\": [\"Platform: Nintendo 64\\\\n, Name: Super Mario 64\\\\n, YearOfRelease: 1996\\\\n, Description: A groundbreaking 3D platformer that set new standards for the genre, featuring Mario\\'s quest to rescue Princess Peach.\\\\n, SimilarityScore: 0.9\\\\n\", \"Platform: Super Nintendo Entertainment System (SNES)\\\\n, Name: Super Mario World\\\\n, YearOfRelease: 1990\\\\n, Description: A classic platformer where Mario embarks on a quest to save Princess Toadstool and Dinosaur Land from Bowser.\\\\n, SimilarityScore: 0.87\\\\n\", \"Platform: Nintendo Switch\\\\n, Name: Mario Kart 8 Deluxe\\\\n, YearOfRelease: 2017\\\\n, Description: An enhanced version of Mario Kart 8, featuring new characters, tracks, and improved gameplay mechanics.\\\\n, SimilarityScore: 0.81\\\\n\"]}', tool_call_id='call_40wg1dRa3QmGRZp8hxUDEeYT', name='retrieve_game_tool'), AIMessage(role='assistant', content=None, tool_calls=[ChatCompletionMessageFunctionToolCall(id='call_NTQwBWILttlfXkYCSDGVVBcs', function=Function(arguments='{\"query\":\"first 3D platformer Mario game\",\"retrieved_docs\":[\"Platform: Nintendo 64\\\\n, Name: Super Mario 64\\\\n, YearOfRelease: 1996\\\\n, Description: A groundbreaking 3D platformer that set new standards for the genre, featuring Mario\\'s quest to rescue Princess Peach.\\\\n, SimilarityScore: 0.9\\\\n\",\"Platform: Super Nintendo Entertainment System (SNES)\\\\n, Name: Super Mario World\\\\n, YearOfRelease: 1990\\\\n, Description: A classic platformer where Mario embarks on a quest to save Princess Toadstool and Dinosaur Land from Bowser.\\\\n, SimilarityScore: 0.87\\\\n\",\"Platform: Nintendo Switch\\\\n, Name: Mario Kart 8 Deluxe\\\\n, YearOfRelease: 2017\\\\n, Description: An enhanced version of Mario Kart 8, featuring new characters, tracks, and improved gameplay mechanics.\\\\n, SimilarityScore: 0.81\\\\n\"]}', name='evaluate_retrieval_tool'), type='function')], token_usage=None), ToolMessage(role='tool', content='[\"{\\\\n    \\\\\"useful\\\\\": true,\\\\n    \\\\\"description\\\\\": \\\\\"The documents provide information about various Mario games, specifically highlighting \\'Super Mario 64\\' as the first 3D platformer in the series. The details include its release year (1996) and its significance in setting new standards for the genre. This directly answers the query about the first 3D platformer Mario game.\\\\\",\\\\n    \\\\\"relevant_info\\\\\": \\\\\"The first 3D platformer Mario game is \\'Super Mario 64\\', released in 1996.\\\\\"\\\\n}\"]', tool_call_id='call_NTQwBWILttlfXkYCSDGVVBcs', name='evaluate_retrieval_tool'), AIMessage(role='assistant', content=None, tool_calls=[ChatCompletionMessageFunctionToolCall(id='call_NH6pWLslhPAJ1fF8glWInoMW', function=Function(arguments='{\"final_response\":\"The first 3D platformer Mario game is \\'Super Mario 64\\', released in 1996. It was a groundbreaking title that set new standards for the genre.\",\"citations\":\"internal database object on Super Mario 64\"}', name='final_answer_tool'), type='function')], token_usage=None), ToolMessage(role='tool', content='{\"answer\": {\"final_response\": \"The first 3D platformer Mario game is \\'Super Mario 64\\', released in 1996. It was a groundbreaking title that set new standards for the genre.\", \"citations\": \"internal database object on Super Mario 64\"}}', tool_call_id='call_NH6pWLslhPAJ1fF8glWInoMW', name='final_answer_tool'), AIMessage(role='assistant', content=\"The first 3D platformer Mario game is 'Super Mario 64', released in 1996. It was a groundbreaking title that set new standards for the genre.\", tool_calls=None, token_usage=None)]\n"
     ]
    }
   ],
   "source": [
    "print(result_2.get_final_state()[\"messages\"])"
   ]
  },
  {
   "cell_type": "code",
   "execution_count": 401,
   "id": "80472a2c-67ba-4a30-ad2d-80ada7050839",
   "metadata": {},
   "outputs": [
    {
     "data": {
      "text/plain": [
       "'{\"answer\": {\"final_response\": \"The first 3D platformer Mario game is \\'Super Mario 64\\', released in 1996. It was a groundbreaking title that set new standards for the genre.\", \"citations\": \"internal database object on Super Mario 64\"}}'"
      ]
     },
     "execution_count": 401,
     "metadata": {},
     "output_type": "execute_result"
    }
   ],
   "source": [
    "result_2.get_final_state()['messages'][-2].content"
   ]
  },
  {
   "cell_type": "code",
   "execution_count": 388,
   "id": "ba123b5c-2d20-4fb2-8d65-7eebb947bf8c",
   "metadata": {},
   "outputs": [
    {
     "name": "stdout",
     "output_type": "stream",
     "text": [
      "[StateMachine] Starting: __entry__\n",
      "[StateMachine] Executing step: message_prep\n",
      "[StateMachine] Executing step: llm_processor\n",
      "Using Tool: **retrieve_game_tool**\n",
      "Looking for documents to address query: Mortal Kombat X release for Playstation 5\n",
      "3 documents found.\n",
      "______________ Documents Related to: Mortal Kombat X release for Playstation 5 _______________\n",
      "[\"Platform: PlayStation 5\\n, Name: Marvel's Spider-Man 2\\n, YearOfRelease: 2023\\n, Description: The sequel to the acclaimed Spider-Man game, featuring both Peter Parker and Miles Morales as playable characters.\\n, SimilarityScore: 0.82\\n\", \"Platform: Xbox Series X|S\\n, Name: Halo Infinite\\n, YearOfRelease: 2021\\n, Description: The latest installment in the Halo franchise, featuring Master Chief's return in a new open-world setting.\\n, SimilarityScore: 0.8\\n\", \"Platform: PlayStation 4\\n, Name: Marvel's Spider-Man\\n, YearOfRelease: 2018\\n, Description: An open-world superhero game that lets players swing through New York City as Spider-Man, battling iconic villains.\\n, SimilarityScore: 0.8\\n\"]\n",
      "[StateMachine] Executing step: tool_executor\n",
      "[StateMachine] Executing step: llm_processor\n",
      "Using Tool **evaluate_retrieval_tool**\n",
      "Evaluating 3 documents for usefulness to query: Mortal Kombat X release for Playstation 5\n",
      "[StateMachine] Executing step: tool_executor\n",
      "[StateMachine] Executing step: llm_processor\n",
      "Using Tool: **game_web_search_tool**\n",
      "[StateMachine] Executing step: tool_executor\n",
      "[StateMachine] Executing step: llm_processor\n",
      "Using Tool **evaluate_retrieval_tool**\n",
      "Evaluating 5 documents for usefulness to query: Mortal Kombat X Playstation 5 release date\n",
      "[StateMachine] Executing step: tool_executor\n",
      "[StateMachine] Executing step: llm_processor\n",
      "[StateMachine] Executing step: tool_executor\n",
      "[StateMachine] Executing step: llm_processor\n",
      "[StateMachine] Terminating: __termination__\n"
     ]
    }
   ],
   "source": [
    "# - Was Mortal Kombat X realeased for Playstation 5?\n",
    "result_3 = game_agent.invoke(query=\"Was Mortal Kombat X realeased for Playstation 5?\")"
   ]
  },
  {
   "cell_type": "code",
   "execution_count": 389,
   "id": "17a08bf0-8c6c-4055-9458-2a9acf59ba8a",
   "metadata": {},
   "outputs": [
    {
     "name": "stdout",
     "output_type": "stream",
     "text": [
      "[SystemMessage(role='system', content=\"You're an AI Agent very good at ideo game industry research You can answer multistep questions by sequentially calling functions. You follow a pattern of of Thought and Action. Last tool used is always  **final_answer_tool** when usable document or information from web search is recieved from tool call.\\nCreate a plan of execution: - Use Thought to describe your thoughts about the question you have been asked. - Use Action to specify one of the tools available to you. if you don't have a tool available, you can respond directly.When you think it's over, return the answer. Never try to respond directly if the question needs a tool. But if you don't have a tool available, you can respond directly. Tools Included: \\n - **game_web_search_tool**: Searches the web for supplimentary information about a video game.\\n - **evaluate_retrieval_tool**: Evaluates relevance of the retrieved documents from the retrieve_game_tool.\\n - **retrieve_game_tool**: Searches an internal collection for relevant documents about a video game.\\n - **final_answer_tool**: Provides the final answer to the user's query and ends the agent process.\\n\\n Tool use instructions:\\n    1. Use **retrieve_game_tool** to search for information to answer a specific query\\n    2. Use **evaluate_retrieval_tool** to evaluate how well the retrieved documents in step 1 address the user query. DO NOT USE FOR **game_web_search_tool** RESULTS!\\n    3. If Step 2 provides a useful document to anwer the question, then call **final_answer_tool**, otherwise, continue.\\n    3. Use **game_web_search_tool** to search the internet if the documents retrieved were not deemed useful in the evaluation provided by evaluate_retrieval_tool.\\n    4. If web search did not return relevant results, try **game_web_search_tool** again with a slightly modified version of the user question.\\n    5. If web search provided relevant results call **final_answer_tool**\\n\\n\"), UserMessage(role='user', content='Was Mortal Kombat X realeased for Playstation 5?'), AIMessage(role='assistant', content=None, tool_calls=[ChatCompletionMessageFunctionToolCall(id='call_huliWXTVBQIrdQ9VDOBmOQjp', function=Function(arguments='{\"query\":\"Mortal Kombat X release for Playstation 5\"}', name='retrieve_game_tool'), type='function')], token_usage=None), ToolMessage(role='tool', content='{\"answer\": [\"Platform: PlayStation 5\\\\n, Name: Marvel\\'s Spider-Man 2\\\\n, YearOfRelease: 2023\\\\n, Description: The sequel to the acclaimed Spider-Man game, featuring both Peter Parker and Miles Morales as playable characters.\\\\n, SimilarityScore: 0.82\\\\n\", \"Platform: Xbox Series X|S\\\\n, Name: Halo Infinite\\\\n, YearOfRelease: 2021\\\\n, Description: The latest installment in the Halo franchise, featuring Master Chief\\'s return in a new open-world setting.\\\\n, SimilarityScore: 0.8\\\\n\", \"Platform: PlayStation 4\\\\n, Name: Marvel\\'s Spider-Man\\\\n, YearOfRelease: 2018\\\\n, Description: An open-world superhero game that lets players swing through New York City as Spider-Man, battling iconic villains.\\\\n, SimilarityScore: 0.8\\\\n\"]}', tool_call_id='call_huliWXTVBQIrdQ9VDOBmOQjp', name='retrieve_game_tool'), AIMessage(role='assistant', content=None, tool_calls=[ChatCompletionMessageFunctionToolCall(id='call_ChizfyDw7lJvp1l0J2BpeZNW', function=Function(arguments='{\"query\":\"Mortal Kombat X release for Playstation 5\",\"retrieved_docs\":[\"Platform: PlayStation 5\\\\n, Name: Marvel\\'s Spider-Man 2\\\\n, YearOfRelease: 2023\\\\n, Description: The sequel to the acclaimed Spider-Man game, featuring both Peter Parker and Miles Morales as playable characters.\\\\n, SimilarityScore: 0.82\\\\n\",\"Platform: Xbox Series X|S\\\\n, Name: Halo Infinite\\\\n, YearOfRelease: 2021\\\\n, Description: The latest installment in the Halo franchise, featuring Master Chief\\'s return in a new open-world setting.\\\\n, SimilarityScore: 0.8\\\\n\",\"Platform: PlayStation 4\\\\n, Name: Marvel\\'s Spider-Man\\\\n, YearOfRelease: 2018\\\\n, Description: An open-world superhero game that lets players swing through New York City as Spider-Man, battling iconic villains.\\\\n, SimilarityScore: 0.8\\\\n\"]}', name='evaluate_retrieval_tool'), type='function')], token_usage=None), ToolMessage(role='tool', content='[\"{\\\\n    \\\\\"useful\\\\\": false,\\\\n    \\\\\"description\\\\\": \\\\\"The documents provided do not contain any information regarding the release of Mortal Kombat X for PlayStation 5. They only mention other games, such as Marvel\\'s Spider-Man 2 and Halo Infinite, which are unrelated to the query. Therefore, the documents do not provide the necessary information to respond to the query about Mortal Kombat X.\\\\\",\\\\n    \\\\\"relevant_info\\\\\": \\\\\"\\\\\"\\\\n}\"]', tool_call_id='call_ChizfyDw7lJvp1l0J2BpeZNW', name='evaluate_retrieval_tool'), AIMessage(role='assistant', content=None, tool_calls=[ChatCompletionMessageFunctionToolCall(id='call_pSE0rRVfMPE22KM1dR59wTyw', function=Function(arguments='{\"query\":\"Mortal Kombat X Playstation 5 release date\"}', name='game_web_search_tool'), type='function')], token_usage=None), ToolMessage(role='tool', content='{\"answer\": [\"{\\\\\"title\\\\\": \\\\\"Mortal Kombat Legacy Kollection Release Date ...\\\\\", \\\\\"url\\\\\": \\\\\"https://www.psu.com/news/mortal-kombat-legacy-kollection-release-date-reportedly-set-for-september-29/\\\\\", \\\\\"content\\\\\": \\\\\"Home\\\\\\\\n PS5\\\\\\\\n PS Plus\\\\\\\\n News\\\\\\\\n Features\\\\\\\\n Guides\\\\\\\\n Reviews\\\\\\\\n Games\\\\\\\\n Wallpapers\\\\\\\\n\\\\\\\\nDigital Eclipse Mortal Kombat Mortal Kombat Legacy Kollection Release Date Mortal Kombat: Legacy Kollection News PS4 PS5\\\\\\\\n\\\\\\\\n# Mortal Kombat Legacy Kollection Release Date Reportedly Set For September 29\\\\\\\\n\\\\\\\\nThe Xbox mobile app has reportedly leaked the Mortal Kombat Legacy Kollection release date, confirming the retro fighting game collection will roll out on September 29, 2025. [...] Originally announced during Sony\\\\\\\\u2019s June 2025 State of Play broadcast, Mortal Kombat Legacy Kollection is due out for PS5, PS4, PC, Nintendo Switch, Nintendo Switch 2, Xbox Series X/S, and Xbox One. The collection features ports of the following games: Mortal Kombat, Mortal Kombat II, Mortal Kombat 3, Ultimate Mortal Kombat 3, Mortal Kombat 4, Mortal Kombat Advance, Mortal Kombat Deadly Alliance, and Mortal Kombat Tournament Edition.\\\\\", \\\\\"score\\\\\": 0.79845446}\", \"{\\\\\"title\\\\\": \\\\\"Mortal Kombat X on PS5? : r/MortalKombat\\\\\", \\\\\"url\\\\\": \\\\\"https://www.reddit.com/r/MortalKombat/comments/15can50/mortal_kombat_x_on_ps5/\\\\\", \\\\\"content\\\\\": \\\\\"/r/MortalKombat is the OFFICIAL subreddit of Mortal Kombat 1, released in September 2023, and a grass roots kommunity-run subreddit for the Mortal Kombat franchise. r/Mortal Kombat is the biggest Mortal Kombat fan resource on the internet, covering a wide range of MK culture and a premier destination for Mortal Kombat gameplay discussion, both casual and competitive! Mortal Kombat is the iconic fighting game franchise created by NetherRealm Studios, a Warner Bros. Games studio. [...] /r/MortalKombat is the OFFICIAL subreddit of Mortal Kombat 1, released in September 2023, and a grass roots kommunity-run subreddit for the Mortal Kombat franchise. r/Mortal Kombat is the biggest Mortal Kombat fan resource on the internet, covering a wide range of MK culture and a premier destination for Mortal Kombat gameplay discussion, both casual and competitive! Mortal Kombat is the iconic fighting game franchise created by NetherRealm Studios, a Warner Bros. Games studio. [...] /r/MortalKombat is the OFFICIAL subreddit of Mortal Kombat 1, released in September 2023, and a grass roots kommunity-run subreddit for the Mortal Kombat franchise. r/Mortal Kombat is the biggest Mortal Kombat fan resource on the internet, covering a wide range of MK culture and a premier destination for Mortal Kombat gameplay discussion, both casual and competitive! Mortal Kombat is the iconic fighting game franchise created by NetherRealm Studios, a Warner Bros. Games studio.\\\\\", \\\\\"score\\\\\": 0.740494}\", \"{\\\\\"title\\\\\": \\\\\"Mortal Kombat X\\\\\", \\\\\"url\\\\\": \\\\\"https://mortalkombat.fandom.com/wiki/Mortal_Kombat_X\\\\\", \\\\\"content\\\\\": \\\\\"|  |\\\\\\\\n| --- |\\\\\\\\n| Gallery |\\\\\\\\n\\\\\\\\nMortal Kombat X is both the 10th fighting game and the 21st installment in the Mortal Kombat series. It was developed by NetherRealm Studios for PlayStation 4 and Xbox One and by High Voltage Software and later QLOC S.A. for PC. The current-generation console versions were released on April 14, 2015. [...] On June 2, 2014, the title was officially revealed as Mortal Kombat X, alongside an official reveal trailer featuring a fight between the iconic characters Scorpion and Sub-Zero. The game made its \\\\\\\\\\\\\"first public appearance\\\\\\\\\\\\\" at E3 2014 starting on June 10th, where they confirmed and announced multiple characters and stages, and also released additional information and the first ever gameplay of the game.\\\\\", \\\\\"score\\\\\": 0.7352811}\", \"{\\\\\"title\\\\\": \\\\\"Mortal Kombat X - Wikipedia\\\\\", \\\\\"url\\\\\": \\\\\"https://en.wikipedia.org/wiki/Mortal_Kombat_X\\\\\", \\\\\"content\\\\\": \\\\\"An upgraded version of _Mortal Kombat X_, titled _Mortal Kombat XL_,( was released on March 1, 2016, for PlayStation 4 and Xbox One, including all downloadable content characters from the two released Kombat Packs, almost all bonus alternate costumes available at the time of release, improved gameplay, and improved netcode. This edition was also released for Windows on October 4, 2016. A sequel, _Mortal Kombat 11_, was released on April 23, 2019, for Nintendo Switch, PlayStation 4, Windows, and [...] 2015, in select Asian countries( and was officially launched worldwide on May 4, 2015.( [...] _Mortal Kombat X_ was released worldwide (except Germany) for PC, PlayStation 4, and Xbox One on April 14, 2015. For reasons relating to the initial refusal by the German USK to issue the game with an age rating, the official German release of _Mortal Kombat X_ was delayed until September 1, 2015. The game\\'s _Kollector\\'s Edition_ includes a figurine of Scorpion and the Gold Scorpion skin, as well as future access to Kombat Pack 1.( Simultaneously with the release of Kombat Pack 2 and _Mortal\\\\\", \\\\\"score\\\\\": 0.72278196}\", \"{\\\\\"title\\\\\": \\\\\"Mortal Kombat: Legacy Kollection launches on PS5, PS4 this year\\\\\", \\\\\"url\\\\\": \\\\\"https://blog.playstation.com/2025/06/04/mortal-kombat-legacy-collection-launches-on-ps5-ps4-this-year/\\\\\", \\\\\"content\\\\\": \\\\\"That\\\\\\\\u2019s why we were so excited to reveal in today\\\\\\\\u2019s State of Play that we\\\\\\\\u2019re partnering with our friends Warner Bros. Interactive Entertainment to bring Mortal Kombat: Legacy Kollection to PlayStation 5 and PlayStation 4 later in 2025.\\\\\\\\n\\\\\\\\nPlay VideoImage 7: New look for PS5 console this holiday season [...] June 4, 2025 June 5, 2025\\\\\\\\nMortal Kombat: Legacy Kollection launches on PS5, PS4 this year\\\\\\\\n===============================================================\\\\\\\\n\\\\\\\\n 35  0  215\\\\\\\\n\\\\\\\\nImage 5: Mortal Kombat: Legacy Kollection launches on PS5, PS4 this year\\\\\\\\n\\\\\\\\nLike this\\\\\\\\n\\\\\\\\nDigital Eclipse brings the classic arcade, home, and handheld games to PlayStation in 2025.\\\\\\\\n\\\\\\\\nImage 6\\\\\\\\n\\\\\\\\nChris Kohler Editorial Director, Digital Eclipse [...] Published Time: 2025-06-04T14:28:55-07:00\\\\\\\\n\\\\\\\\nMortal Kombat: Legacy Kollection launches on PS5, PS4 this year \\\\\\\\u2013 PlayStation.Blog\\\\\\\\n\\\\\\\\n===============\\\\\\\\n\\\\\\\\nSkip to content\\\\\\\\n\\\\\\\\nImage 1: playstation.com\\\\\\\\n\\\\\\\\nImage 2Image 3Image 4\\\\\\\\n\\\\\\\\nplaystation.comPlayStation.Blog\\\\\\\\n\\\\\\\\nMenu\\\\\\\\n\\\\\\\\n   PS5\\\\\\\\n   PS VR2\\\\\\\\n   PS4\\\\\\\\n   PS Store\\\\\\\\n   PS Plus\\\\\\\\n\\\\\\\\nSelect a region Current region:English\\\\\\\\n\\\\\\\\n   French\\\\\\\\n   German\\\\\\\\n   Italian\\\\\\\\n   Japanese\\\\\\\\n   Korean\\\\\\\\n   Portuguese (Br)\\\\\\\\n   Russian\\\\\\\\n   Spanish (LatAm)\\\\\\\\n   Spanish (EU)\\\\\\\\n   Traditional Chinese\\\\\\\\n\\\\\\\\nLoginSearch\\\\\", \\\\\"score\\\\\": 0.72042775}\"]}', tool_call_id='call_pSE0rRVfMPE22KM1dR59wTyw', name='game_web_search_tool'), AIMessage(role='assistant', content=None, tool_calls=[ChatCompletionMessageFunctionToolCall(id='call_4t59cmQxJgqVzhZAHabvYP4W', function=Function(arguments='{\"query\":\"Mortal Kombat X Playstation 5 release date\",\"retrieved_docs\":[\"Mortal Kombat Legacy Kollection Release Date ...\",\"Mortal Kombat X on PS5? : r/MortalKombat\",\"Mortal Kombat X\",\"Mortal Kombat X - Wikipedia\",\"Mortal Kombat: Legacy Kollection launches on PS5, PS4 this year\"]}', name='evaluate_retrieval_tool'), type='function')], token_usage=None), ToolMessage(role='tool', content='[\"{\\\\n    \\\\\"useful\\\\\": false,\\\\n    \\\\\"description\\\\\": \\\\\"The documents provided do not contain specific information regarding the release date of Mortal Kombat X for the Playstation 5. While there are mentions of Mortal Kombat X and related titles, none of the documents explicitly state a release date for Mortal Kombat X on the PS5. Therefore, they do not adequately respond to the query.\\\\\",\\\\n    \\\\\"relevant_info\\\\\": \\\\\"\\\\\"\\\\n}\"]', tool_call_id='call_4t59cmQxJgqVzhZAHabvYP4W', name='evaluate_retrieval_tool'), AIMessage(role='assistant', content=None, tool_calls=[ChatCompletionMessageFunctionToolCall(id='call_IDOn3DSkq6yxTJYD77QKpzOA', function=Function(arguments='{\"final_response\":\"Mortal Kombat X was not released for PlayStation 5. It was originally released for PlayStation 4 and Xbox One on April 14, 2015. While there are other Mortal Kombat titles and collections being released for PS5, Mortal Kombat X itself is not among them.\",\"citations\":\"Wikipedia: https://en.wikipedia.org/wiki/Mortal_Kombat_X\"}', name='final_answer_tool'), type='function')], token_usage=None), ToolMessage(role='tool', content='{\"answer\": {\"final_response\": \"Mortal Kombat X was not released for PlayStation 5. It was originally released for PlayStation 4 and Xbox One on April 14, 2015. While there are other Mortal Kombat titles and collections being released for PS5, Mortal Kombat X itself is not among them.\", \"citations\": \"Wikipedia: https://en.wikipedia.org/wiki/Mortal_Kombat_X\"}}', tool_call_id='call_IDOn3DSkq6yxTJYD77QKpzOA', name='final_answer_tool'), AIMessage(role='assistant', content='Mortal Kombat X was not released for PlayStation 5. It was originally released for PlayStation 4 and Xbox One on April 14, 2015. While there are other Mortal Kombat titles and collections being released for PS5, Mortal Kombat X itself is not among them. \\n\\nFor more details, you can refer to [Wikipedia](https://en.wikipedia.org/wiki/Mortal_Kombat_X).', tool_calls=None, token_usage=None)]\n"
     ]
    }
   ],
   "source": [
    "print(result_3.get_final_state()[\"messages\"])"
   ]
  },
  {
   "cell_type": "code",
   "execution_count": 402,
   "id": "f7fd7d8f-a1d7-40ac-8854-c41965067152",
   "metadata": {},
   "outputs": [
    {
     "data": {
      "text/plain": [
       "'{\"answer\": {\"final_response\": \"Mortal Kombat X was not released for PlayStation 5. It was originally released for PlayStation 4 and Xbox One on April 14, 2015. While there are other Mortal Kombat titles and collections being released for PS5, Mortal Kombat X itself is not among them.\", \"citations\": \"Wikipedia: https://en.wikipedia.org/wiki/Mortal_Kombat_X\"}}'"
      ]
     },
     "execution_count": 402,
     "metadata": {},
     "output_type": "execute_result"
    }
   ],
   "source": [
    "result_3.get_final_state()['messages'][-2].content"
   ]
  },
  {
   "cell_type": "code",
   "execution_count": 391,
   "id": "e732ee03-89cd-4a13-8416-19d39e96fb1c",
   "metadata": {},
   "outputs": [
    {
     "name": "stdout",
     "output_type": "stream",
     "text": [
      "[StateMachine] Starting: __entry__\n",
      "[StateMachine] Executing step: message_prep\n",
      "[StateMachine] Executing step: llm_processor\n",
      "Using Tool: **retrieve_game_tool**\n",
      "Looking for documents to address query: who made Halo Infinite\n",
      "3 documents found.\n",
      "______________ Documents Related to: who made Halo Infinite _______________\n",
      "[\"Platform: Xbox Series X|S\\n, Name: Halo Infinite\\n, YearOfRelease: 2021\\n, Description: The latest installment in the Halo franchise, featuring Master Chief's return in a new open-world setting.\\n, SimilarityScore: 0.82\\n\", 'Platform: Xbox One\\n, Name: Minecraft\\n, YearOfRelease: 2014\\n, Description: A sandbox game that allows players to build and explore infinite worlds, fostering creativity and adventure.\\n, SimilarityScore: 0.72\\n', \"Platform: PlayStation 5\\n, Name: Marvel's Spider-Man 2\\n, YearOfRelease: 2023\\n, Description: The sequel to the acclaimed Spider-Man game, featuring both Peter Parker and Miles Morales as playable characters.\\n, SimilarityScore: 0.71\\n\"]\n",
      "[StateMachine] Executing step: tool_executor\n",
      "[StateMachine] Executing step: llm_processor\n",
      "Using Tool **evaluate_retrieval_tool**\n",
      "Evaluating 1 documents for usefulness to query: who made Halo Infinite\n",
      "[StateMachine] Executing step: tool_executor\n",
      "[StateMachine] Executing step: llm_processor\n",
      "Using Tool: **game_web_search_tool**\n",
      "[StateMachine] Executing step: tool_executor\n",
      "[StateMachine] Executing step: llm_processor\n",
      "[StateMachine] Executing step: tool_executor\n",
      "[StateMachine] Executing step: llm_processor\n",
      "[StateMachine] Terminating: __termination__\n"
     ]
    }
   ],
   "source": [
    "# - who made halo infinite?\n",
    "result_4 = game_agent.invoke(query=\"who made halo infinite?\")"
   ]
  },
  {
   "cell_type": "code",
   "execution_count": 392,
   "id": "c346bf9f-ed4d-4fe7-a57d-a081944c8375",
   "metadata": {},
   "outputs": [
    {
     "name": "stdout",
     "output_type": "stream",
     "text": [
      "[SystemMessage(role='system', content=\"You're an AI Agent very good at ideo game industry research You can answer multistep questions by sequentially calling functions. You follow a pattern of of Thought and Action. Last tool used is always  **final_answer_tool** when usable document or information from web search is recieved from tool call.\\nCreate a plan of execution: - Use Thought to describe your thoughts about the question you have been asked. - Use Action to specify one of the tools available to you. if you don't have a tool available, you can respond directly.When you think it's over, return the answer. Never try to respond directly if the question needs a tool. But if you don't have a tool available, you can respond directly. Tools Included: \\n - **game_web_search_tool**: Searches the web for supplimentary information about a video game.\\n - **evaluate_retrieval_tool**: Evaluates relevance of the retrieved documents from the retrieve_game_tool.\\n - **retrieve_game_tool**: Searches an internal collection for relevant documents about a video game.\\n - **final_answer_tool**: Provides the final answer to the user's query and ends the agent process.\\n\\n Tool use instructions:\\n    1. Use **retrieve_game_tool** to search for information to answer a specific query\\n    2. Use **evaluate_retrieval_tool** to evaluate how well the retrieved documents in step 1 address the user query. DO NOT USE FOR **game_web_search_tool** RESULTS!\\n    3. If Step 2 provides a useful document to anwer the question, then call **final_answer_tool**, otherwise, continue.\\n    3. Use **game_web_search_tool** to search the internet if the documents retrieved were not deemed useful in the evaluation provided by evaluate_retrieval_tool.\\n    4. If web search did not return relevant results, try **game_web_search_tool** again with a slightly modified version of the user question.\\n    5. If web search provided relevant results call **final_answer_tool**\\n\\n\"), UserMessage(role='user', content='who made halo infinite?'), AIMessage(role='assistant', content=None, tool_calls=[ChatCompletionMessageFunctionToolCall(id='call_eSumy0XuyhsUEdcJFXHvu4k1', function=Function(arguments='{\"query\":\"who made Halo Infinite\"}', name='retrieve_game_tool'), type='function')], token_usage=None), ToolMessage(role='tool', content='{\"answer\": [\"Platform: Xbox Series X|S\\\\n, Name: Halo Infinite\\\\n, YearOfRelease: 2021\\\\n, Description: The latest installment in the Halo franchise, featuring Master Chief\\'s return in a new open-world setting.\\\\n, SimilarityScore: 0.82\\\\n\", \"Platform: Xbox One\\\\n, Name: Minecraft\\\\n, YearOfRelease: 2014\\\\n, Description: A sandbox game that allows players to build and explore infinite worlds, fostering creativity and adventure.\\\\n, SimilarityScore: 0.72\\\\n\", \"Platform: PlayStation 5\\\\n, Name: Marvel\\'s Spider-Man 2\\\\n, YearOfRelease: 2023\\\\n, Description: The sequel to the acclaimed Spider-Man game, featuring both Peter Parker and Miles Morales as playable characters.\\\\n, SimilarityScore: 0.71\\\\n\"]}', tool_call_id='call_eSumy0XuyhsUEdcJFXHvu4k1', name='retrieve_game_tool'), AIMessage(role='assistant', content=None, tool_calls=[ChatCompletionMessageFunctionToolCall(id='call_E0TsyjV3XXo366xm4cJgrOMY', function=Function(arguments='{\"query\":\"who made Halo Infinite\",\"retrieved_docs\":[\"Platform: Xbox Series X|S\\\\n, Name: Halo Infinite\\\\n, YearOfRelease: 2021\\\\n, Description: The latest installment in the Halo franchise, featuring Master Chief\\'s return in a new open-world setting.\\\\n, SimilarityScore: 0.82\\\\n\"]}', name='evaluate_retrieval_tool'), type='function')], token_usage=None), ToolMessage(role='tool', content='[\"{\\\\n    \\\\\"useful\\\\\": false,\\\\n    \\\\\"description\\\\\": \\\\\"The document provides some basic information about Halo Infinite, including its platform, name, year of release, and a brief description of the game. However, it does not mention who developed or created Halo Infinite, which is the specific information requested in the query.\\\\\",\\\\n    \\\\\"relevant_info\\\\\": \\\\\"\\\\\"\\\\n}\"]', tool_call_id='call_E0TsyjV3XXo366xm4cJgrOMY', name='evaluate_retrieval_tool'), AIMessage(role='assistant', content=None, tool_calls=[ChatCompletionMessageFunctionToolCall(id='call_xKJP5tmFZWiHou0RHmrfbqh6', function=Function(arguments='{\"query\":\"who developed Halo Infinite\"}', name='game_web_search_tool'), type='function')], token_usage=None), ToolMessage(role='tool', content='{\"answer\": [\"{\\\\\"title\\\\\": \\\\\"Halo Infinite - Wikipedia\\\\\", \\\\\"url\\\\\": \\\\\"https://en.wikipedia.org/wiki/Halo_Infinite\\\\\", \\\\\"content\\\\\": \\\\\"Developer 343 Industries produced _Halo 4_ (2012) and _Halo 5: Guardians_ (2015) as part of the \\\\\\\\\\\\\"Reclaimer Saga\\\\\\\\\\\\\", a series of games initially planned as a trilogy.( Infinite_ was developed by 343 Industries with assistance from SkyBox Labs, Sperasoft, The Coalition \\\\\\\\\\\\\"The Coalition (company)\\\\\\\\\\\\\"), Certain Affinity and Atomhawk.( [...] _TechRadar_ wrote _Halo Infinite_ was \\\\\\\\\\\\\"a triumph\\\\\\\\\\\\\", saying \\\\\\\\\\\\\"From its captivating story to its liberating gameplay, developer 343 Industries has created a campaign that will resonate with veteran _Halo_ fans and inspire a new generation of players.\\\\\\\\\\\\\"( believed the _Halo_ series to still belong amongst the best shooter games, especially praising _Halo Infinite_\\'s single-player campaign( and multiplayer, though considered the rewards gained in the latter\\'s Battle Pass to be lackluster.( The game\\'s [...] 59.   ^Gilliam, Ryan (June 10, 2018). \\\\\\\\\\\\\"Halo Infinite brings the series back to PC\\\\\\\\\\\\\". _Polygon \\\\\\\\\\\\\"Polygon (website)\\\\\\\\\\\\\")_. Vox Media. Archived from the original on June 12, 2018. Retrieved June 20, 2018.\\\\\\\\n60.   ^Sato (June 10, 2018). \\\\\\\\\\\\\"Halo Infinite Announced For Xbox One, Developed By 343 Industries\\\\\\\\\\\\\". _Siliconera_. Curse. Archived from the original on September 15, 2018. Retrieved June 10, 2018.\\\\\", \\\\\"score\\\\\": 0.8464638}\", \"{\\\\\"title\\\\\": \\\\\"News - Sperasoft | Game Development\\\\\", \\\\\"url\\\\\": \\\\\"https://sperasoft.com/news/\\\\\", \\\\\"content\\\\\": \\\\\"USA, San Jose \\\\\\\\u2013 August 4, 2020 \\\\\\\\u2013 Sperasoft, a Keywords Studio, is collaborating with 343 Industries and Xbox Game Studios to develop Halo Infinite \\\\\\\\u2013 the next chapter of the legendary Halo franchise. With tens of millions of fans all over the world, Halo is a household name, and easily one of the biggest\\\\\\\\u2026\\\\\\\\n\\\\\\\\n### Sperasoft Teams Up with KRAFTON to Shape the Battlegrounds of PUBG: BLINDSPOT\\\\\\\\n\\\\\\\\nMay 13, 2025Press releases, News, Games, Partners [...] Sperasoft Collaborates with 343 Industries on Halo Infinite Development\\\\\\\\n==============================================================================================================================================================================\\\\\\\\n\\\\\\\\nAugust 4, 2020Press releases, News, Games, Partners\\\\\", \\\\\"score\\\\\": 0.8452414}\", \"{\\\\\"title\\\\\": \\\\\"Halo Studios - Wikipedia\\\\\", \\\\\"url\\\\\": \\\\\"https://en.wikipedia.org/wiki/Halo_Studios\\\\\", \\\\\"content\\\\\": \\\\\"At E3 2018, Microsoft Studios and 343 Industries announced the next Halo game, titled Halo Infinite, which was originally scheduled to launch in holiday 2020 for Xbox One and Windows PCs, in addition to being a launch title for the next Xbox console, the Xbox Series X. However, the game was delayed to release in 2021, in part due to the COVID-19 pandemic forcing the 343 staff to switch to remote work. Infinite was the only game to be developed using 343\\'s in-house Slipspace Engine. [...] 42. ^ \\\\\\\\\\\\\"Sperasoft Collaborates with 343 Industries on Halo Infinite Development\\\\\\\\\\\\\". Sperasoft. August 4, 2020. Archived from the original on August 9, 2020. Retrieved August 26, 2020.\\\\\\\\n43. ^ \\\\\\\\\\\\\"Halo Infinite Received Help From Gears Studio, The Coalition\\\\\\\\\\\\\". Game Informer. February 24, 2021. Archived from the original on February 25, 2021. Retrieved February 25, 2021. [...] After co-developing downloadable content for Halo: Reach, Bungie\\'s final Halo game, 343 Industries released Halo: Combat Evolved Anniversary and Halo 4, the latter starting the studio\\'s \\\\\\\\\\\\\"Reclaimer Saga#Reclaimer_saga \\\\\\\\\\\\\"Halo (franchise)\\\\\\\\\\\\\")\\\\\\\\\\\\\" of the mainline games, which further encompassed Halo 5: Guardians (2015) and concluded with Halo Infinite in 2021. The studio rebranded in October 2024.\\\\\\\\n\\\\\\\\n## History\\\\\\\\n\\\\\\\\n[edit]\\\\\\\\n\\\\\\\\n### Formation\\\\\\\\n\\\\\\\\n[edit]\\\\\", \\\\\"score\\\\\": 0.8358192}\", \"{\\\\\"title\\\\\": \\\\\"Our Journey Begins | Halo - Official Site (en) - Halo Waypoint\\\\\", \\\\\"url\\\\\": \\\\\"https://www.halowaypoint.com/en-us/news/our-journey-begins\\\\\", \\\\\"content\\\\\": \\\\\"I\\\\\\\\u2019m incredibly proud of what the 343 Industries development team has done with the _Slipspace Engine_ and this first tease of _Halo Infinite_, and I look forward to sharing more with you all in the future once we are ready. Thank you all for your support and passion for Halo. This is an exciting moment for all of us, and we look forward to embarking on this journey together!\\\\\\\\n\\\\\\\\nChris Lee, Studio Head, FPS\\\\\\\\n\\\\\\\\nImage 6: 343 Logo\\\\\\\\n\\\\\\\\n343 INDUSTRIES [...] It\\\\\\\\u2019s hard to believe that 343 Industries was formed just over a decade ago. Over the years, the team has learned a lot from creating _Halo 4_ and _Halo 5_ and from you, our community. I hope you can see nods to some of that in our demo, such as the approach to some visual elements._Halo Infinite_ will feature Sparth\\\\\\\\u2019s (Art Director, Nicolas Bouvier) new art style that draws significant inspiration from the most iconic and historic parts of the Halo franchise and your feedback, all while [...] E3 2018 is a monumental moment for the Halo franchise and for us here at 343 Industries, and we couldn\\\\\\\\u2019t be more excited to share with you a glimpse of our new _Slipspace Engine_, which will power our next title,_Halo Infinite_. It\\\\\\\\u2019s been a busy stretch here at 343 since the launch of _Halo 5: Guardians_ between supporting the title with post-release updates and secretly working on our new _Slipspace Engine_ tech in parallel. Finally showing the world some of what we\\\\\\\\u2019ve been working on has\\\\\", \\\\\"score\\\\\": 0.7474137}\", \"{\\\\\"title\\\\\": \\\\\"Halo Studios: New Name, New Engine, New Games, New Philosophy\\\\\", \\\\\"url\\\\\": \\\\\"https://news.xbox.com/en-us/2024/10/06/halo-studios-unreal-engine-interview/\\\\\", \\\\\"content\\\\\": \\\\\"Switching from the studio\\\\\\\\u2019s proprietary Slipspace Engine to Unreal is a key part of that change. Previously, 343 Industries needed a large portion of its staff simply to develop and upkeep the engine its games ran on. \\\\\\\\u201cWe believe that the consumption habits of gamers have changed \\\\\\\\u2013 the expectations of how fast their content is available,\\\\\\\\u201d says Hintze. \\\\\\\\u201cOn _Halo Infinite_, we were developing a tech stack that was supposed to set us up for the future, _and_ games at the same time.\\\\\\\\u201d [...] Image 10\\\\\\\\nWhat is clear is that, yes, it\\\\\\\\u2019s Halo _games_ \\\\\\\\u2013 plural \\\\\\\\u2013 in development right now. Where _Halo Infinite_ saw practically the entire studio focused on a single, evolving project, Halo Studios has recalibrated:\\\\\\\\n\\\\\\\\n\\\\\\\\u201cWe had a disproportionate focus on trying to create the conditions to be successful in servicing _Halo Infinite_,\\\\\\\\u201d says Hintze. \\\\\\\\u201c[But switching to Unreal] allows us to put all the focus on making multiple new experiences at the highest quality possible.\\\\\\\\u201d\\\\\", \\\\\"score\\\\\": 0.72184175}\"]}', tool_call_id='call_xKJP5tmFZWiHou0RHmrfbqh6', name='game_web_search_tool'), AIMessage(role='assistant', content=None, tool_calls=[ChatCompletionMessageFunctionToolCall(id='call_qbPglnQNnt1azYdwjleszPGp', function=Function(arguments='{\"final_response\":\"Halo Infinite was developed by 343 Industries, with assistance from several other studios including SkyBox Labs, Sperasoft, The Coalition, Certain Affinity, and Atomhawk.\",\"citations\":\"Wikipedia: https://en.wikipedia.org/wiki/Halo_Infinite\"}', name='final_answer_tool'), type='function')], token_usage=None), ToolMessage(role='tool', content='{\"answer\": {\"final_response\": \"Halo Infinite was developed by 343 Industries, with assistance from several other studios including SkyBox Labs, Sperasoft, The Coalition, Certain Affinity, and Atomhawk.\", \"citations\": \"Wikipedia: https://en.wikipedia.org/wiki/Halo_Infinite\"}}', tool_call_id='call_qbPglnQNnt1azYdwjleszPGp', name='final_answer_tool'), AIMessage(role='assistant', content='Halo Infinite was developed by 343 Industries, with assistance from several other studios including SkyBox Labs, Sperasoft, The Coalition, Certain Affinity, and Atomhawk. You can find more information on this in the [Wikipedia article](https://en.wikipedia.org/wiki/Halo_Infinite).', tool_calls=None, token_usage=None)]\n"
     ]
    }
   ],
   "source": [
    "print(result_4.get_final_state()[\"messages\"])"
   ]
  },
  {
   "cell_type": "code",
   "execution_count": 403,
   "id": "f94c9a77-a990-4753-b0d7-883566b8fe99",
   "metadata": {},
   "outputs": [
    {
     "data": {
      "text/plain": [
       "'{\"answer\": {\"final_response\": \"Halo Infinite was developed by 343 Industries, with assistance from several other studios including SkyBox Labs, Sperasoft, The Coalition, Certain Affinity, and Atomhawk.\", \"citations\": \"Wikipedia: https://en.wikipedia.org/wiki/Halo_Infinite\"}}'"
      ]
     },
     "execution_count": 403,
     "metadata": {},
     "output_type": "execute_result"
    }
   ],
   "source": [
    "result_4.get_final_state()['messages'][-2].content"
   ]
  },
  {
   "cell_type": "markdown",
   "id": "e1cf8611-53ab-47ad-8049-7f6f0196c767",
   "metadata": {},
   "source": [
    "### Statefull quetion Responses"
   ]
  },
  {
   "cell_type": "code",
   "execution_count": 408,
   "id": "cc63c481-7c18-4379-bb48-0c0bb1e26fea",
   "metadata": {},
   "outputs": [
    {
     "name": "stdout",
     "output_type": "stream",
     "text": [
      "[StateMachine] Starting: __entry__\n",
      "[StateMachine] Executing step: message_prep\n",
      "[StateMachine] Executing step: llm_processor\n",
      "Using Tool: **game_web_search_tool**\n",
      "[StateMachine] Executing step: tool_executor\n",
      "[StateMachine] Executing step: llm_processor\n",
      "Using Tool **evaluate_retrieval_tool**\n",
      "Evaluating 5 documents for usefulness to query: biggest game release of all time\n",
      "Using Tool **evaluate_retrieval_tool**\n",
      "Evaluating 2 documents for usefulness to query: biggest game release of all time\n",
      "[StateMachine] Executing step: tool_executor\n",
      "[StateMachine] Executing step: llm_processor\n",
      "[StateMachine] Executing step: tool_executor\n",
      "[StateMachine] Executing step: llm_processor\n",
      "[StateMachine] Terminating: __termination__\n"
     ]
    }
   ],
   "source": [
    "result_5 = game_agent.invoke(query=\"What was the biggest game release of all time?\", session_id='big_game')"
   ]
  },
  {
   "cell_type": "code",
   "execution_count": 409,
   "id": "7a59ee6e-5c86-40ba-80ce-101151578c83",
   "metadata": {},
   "outputs": [
    {
     "data": {
      "text/plain": [
       "'{\"answer\": {\"final_response\": \"The biggest game release of all time, based on sales figures, is **Minecraft**, which has sold over 350 million copies as of October 2023. In terms of gross revenue, **Grand Theft Auto V** is the highest-grossing video game, having generated over $6 billion in revenue since its release.\", \"citations\": {\"1\": \"Wikipedia: https://en.wikipedia.org/wiki/List_of_best-selling_video_games\", \"2\": \"IGN: https://www.ign.com/articles/best-selling-video-games-of-all-time-grand-theft-auto-minecraft\"}}}'"
      ]
     },
     "execution_count": 409,
     "metadata": {},
     "output_type": "execute_result"
    }
   ],
   "source": [
    "result_5.get_final_state()['messages'][-2].content"
   ]
  },
  {
   "cell_type": "code",
   "execution_count": 410,
   "id": "7a787f21-7935-400f-9a7a-196227ef8491",
   "metadata": {},
   "outputs": [
    {
     "name": "stdout",
     "output_type": "stream",
     "text": [
      "[StateMachine] Starting: __entry__\n",
      "[StateMachine] Executing step: message_prep\n",
      "[StateMachine] Executing step: llm_processor\n",
      "Using Tool: **game_web_search_tool**\n",
      "[StateMachine] Executing step: tool_executor\n",
      "[StateMachine] Executing step: llm_processor\n",
      "Using Tool **evaluate_retrieval_tool**\n",
      "Evaluating 3 documents for usefulness to query: second biggest game release of all time\n",
      "Using Tool **evaluate_retrieval_tool**\n",
      "Evaluating 2 documents for usefulness to query: second biggest game release of all time\n",
      "[StateMachine] Executing step: tool_executor\n",
      "[StateMachine] Executing step: llm_processor\n",
      "[StateMachine] Executing step: tool_executor\n",
      "[StateMachine] Executing step: llm_processor\n",
      "[StateMachine] Terminating: __termination__\n"
     ]
    }
   ],
   "source": [
    "result_6 = game_agent.invoke(query=\"What was the second?\", session_id='big_game')"
   ]
  },
  {
   "cell_type": "code",
   "execution_count": 411,
   "id": "0d8b9d73-f037-40c6-9d0d-2a6422c3675a",
   "metadata": {},
   "outputs": [
    {
     "data": {
      "text/plain": [
       "[SystemMessage(role='system', content=\"You're an AI Agent very good at ideo game industry research You can answer multistep questions by sequentially calling functions. You follow a pattern of of Thought and Action. Last tool used is always  **final_answer_tool** when usable document or information from web search is recieved from tool call.\\nCreate a plan of execution: - Use Thought to describe your thoughts about the question you have been asked. - Use Action to specify one of the tools available to you. if you don't have a tool available, you can respond directly.When you think it's over, return the answer. Never try to respond directly if the question needs a tool. But if you don't have a tool available, you can respond directly. Tools Included: \\n - **game_web_search_tool**: Searches the web for supplimentary information about a video game.\\n - **evaluate_retrieval_tool**: Evaluates relevance of the retrieved documents from the retrieve_game_tool.\\n - **retrieve_game_tool**: Searches an internal collection for relevant documents about a video game.\\n - **final_answer_tool**: Provides the final answer to the user's query and ends the agent process.\\n\\n Tool use instructions:\\n    1. Use **retrieve_game_tool** to search for information to answer a specific query\\n    2. Use **evaluate_retrieval_tool** to evaluate how well the retrieved documents in step 1 address the user query. DO NOT USE FOR **game_web_search_tool** RESULTS!\\n    3. If Step 2 provides a useful document to anwer the question, then call **final_answer_tool**, otherwise, continue.\\n    3. Use **game_web_search_tool** to search the internet if the documents retrieved were not deemed useful in the evaluation provided by evaluate_retrieval_tool.\\n    4. If web search did not return relevant results, try **game_web_search_tool** again with a slightly modified version of the user question.\\n    5. If web search provided relevant results call **final_answer_tool**\\n\\n\"),\n",
       " UserMessage(role='user', content='What was the biggest game release of all time?'),\n",
       " AIMessage(role='assistant', content=None, tool_calls=[ChatCompletionMessageFunctionToolCall(id='call_hYRbwRTtDaq0Y3txSQ21iZct', function=Function(arguments='{\"query\":\"biggest game release of all time\"}', name='game_web_search_tool'), type='function')], token_usage=None),\n",
       " ToolMessage(role='tool', content='{\"answer\": [\"{\\\\\"title\\\\\": \\\\\"The 10 Best-Selling Video Games of All Time - IGN\\\\\", \\\\\"url\\\\\": \\\\\"https://www.ign.com/articles/best-selling-video-games-of-all-time-grand-theft-auto-minecraft-tetris\\\\\", \\\\\"content\\\\\": \\\\\"Image 4: <h3>9. Terraria \\\\\\\\u2013 58.7 million</h3>\\\\\\\\nPerhaps the biggest surprise on this list is Terraria, the hit 2D sandbox game from developer Re-Logic. As of June 2024, 58.7 million copies of Terraria have been sold, according to the developer, with 32 million on PC alone.\\\\\\\\n\\\\\\\\nView 10 Images [...] GTA 5 was the fastest entertainment release from any medium to reach $1 billion in retail sales \\\\\\\\u2014 and it\\\\\\\\u2019s since earned Rockstar and Take-Two billions more, making it the most profitable entertainment release _ever_, at least as of 2018. Total sales for the franchise sit at 430 million units sold.\\\\\\\\n\\\\\\\\nGTA 6 is now in development and due out in Fall 2025.\\\\\\\\n\\\\\\\\n2. Minecraft \\\\\\\\u2013 300 million\\\\\\\\n--------------------------\\\\\\\\n\\\\\\\\nImage 17: A look at the Minecraft Realms add-on.\\\\\\\\n\\\\\\\\nImage credit: Mojang Studios [...] Perhaps the biggest surprise on this list is , the hit 2D sandbox game from developer Re-Logic. As of June 2024, 58.7 million copies of Terraria have been sold, according to the Terraria, with 32 million on PC alone.\\\\\\\\n\\\\\\\\n8. The Elder Scrolls 5: Skyrim \\\\\\\\u2013 60 million\\\\\\\\n-------------------------------------------\\\\\\\\n\\\\\\\\nImage 11: Skrim character in a horned helmet\\\\\\\\n\\\\\\\\nImage credit: Bethesda Softworks\\\\\", \\\\\"score\\\\\": 0.7123327}\", \"{\\\\\"title\\\\\": \\\\\"List of highest-grossing video games\\\\\", \\\\\"url\\\\\": \\\\\"https://vgsales.fandom.com/wiki/List_of_highest-grossing_video_games\\\\\", \\\\\"content\\\\\": \\\\\"Space Invaders (1978) is the highest-grossing video game adjusted for inflation. It was originally released for arcades by Taito (now owned by Square Enix) and is estimated to have grossed about $14 billion, equivalent to about $30 billion adjusted for inflation. In terms of nominal gross (without inflation), the highest\\\\\\\\u2011grossing video game to date is Dungeon Fighter Online, a 2005 beat \\'em up that has grossed $22 billion worldwide (mostly in Asia) as of 2023.\\\\\\\\n\\\\\\\\n## Contents [...] | No. | Title | Year | Company | System | Gross revenue (est. US$) | | Genre | Ref |\\\\\\\\n| --- | --- | --- | --- | --- | --- | --- | --- | --- |\\\\\\\\n| Nominal | Inflation |\\\\\\\\n| 1 | Space Invaders | 1978 | Japan Taito | Multi-plat | $14,000,000,000 | $30,000,000,000 | Shmup |  |\\\\\\\\n| 2 | Pac-Man | 1980 | Japan Namco | Multi-plat | $13,560,000,000 | $26,000,000,000 | Maze |  |\\\\\\\\n| 3 | Dungeon Fighter Online | 2005 | South Korea Nexon | Multi-plat | $22,000,000,000 | $22,000,000,000 | Brawler |  | [...] | Title | Year | Company | System | Gross revenue (est. US$) | | Genre | Ref |\\\\\\\\n| --- | --- | --- | --- | --- | --- | --- | --- |\\\\\\\\n| Nominal | Inflation |\\\\\\\\n| Print Club | 1995 | Japan Sega | Arcade | $1,000,000,000 | $1,593,000,000 | Purikura |  |\\\\\\\\n| Minecraft | 2011 | Sweden Mojang | Multi-plat | $1,593,000,000 | $1,888,000,000 | Sandbox |  |\\\\\\\\n| Pole Position \\\\\\\\\\\\\"wikipedia:Pole Position (video game)\\\\\\\\\\\\\") | 1982 | Japan Namco | Arcade | $579,600,000 | $1,888,000,000 | Racing |  |\\\\\", \\\\\"score\\\\\": 0.70847535}\", \"{\\\\\"title\\\\\": \\\\\"The 50 Best-Selling Games of All Time: Ranked by Units Sold\\\\\", \\\\\"url\\\\\": \\\\\"https://www.blog.udonis.co/mobile-marketing/mobile-games/best-selling-games\\\\\", \\\\\"content\\\\\": \\\\\"Sales: 82,900,000\\\\\\\\n\\\\\\\\n \\\\\\\\u2022 Platform: Wii\\\\\\\\n\\\\\\\\n \\\\\\\\u2022 Release Date: November 19, 2006\\\\\\\\n\\\\\\\\n \\\\\\\\u2022 Developer: Nintendo EAD\\\\\\\\n\\\\\\\\n \\\\\\\\u2022 Publisher: Nintendo\\\\\\\\n\\\\\\\\n### 4. Ark: Survival Evolved\\\\\\\\n\\\\\\\\n   Sales: 76,000,000\\\\\\\\n\\\\\\\\n \\\\\\\\u2022 Platform: Multi-platform\\\\\\\\n\\\\\\\\n \\\\\\\\u2022 Release Date: August 29, 2017\\\\\\\\n\\\\\\\\n \\\\\\\\u2022 Developer: Studio Wildcard\\\\\\\\n\\\\\\\\n \\\\\\\\u2022 Publisher: Studio Wildcard\\\\\\\\n\\\\\\\\n### 5. Mario Kart 8 / Deluxe\\\\\\\\n\\\\\\\\n   Sales: 75,810,000\\\\\\\\n\\\\\\\\n \\\\\\\\u2022 Platform: Wii U / Switch\\\\\\\\n\\\\\\\\n \\\\\\\\u2022 Release Date: May 29, 2014\\\\\\\\n\\\\\\\\n \\\\\\\\u2022 Developer: Nintendo EAD / Nintendo EPD\\\\\\\\n\\\\\\\\n \\\\\\\\u2022 Publisher: Nintendo [...] ### 22. Sonic the Hedgehog\\\\\\\\n\\\\\\\\n   Sales: 40,000,000\\\\\\\\n\\\\\\\\n \\\\\\\\u2022 Platform: Multi-platform\\\\\\\\n\\\\\\\\n \\\\\\\\u2022 Release Date: June 23, 1991\\\\\\\\n\\\\\\\\n \\\\\\\\u2022 Developer: Sonic Team\\\\\\\\n\\\\\\\\n \\\\\\\\u2022 Publisher: Sega\\\\\\\\n\\\\\\\\n### 23. The Elder Scrolls V: Skyrim\\\\\\\\n\\\\\\\\n   Sales: 40,000,000\\\\\\\\n\\\\\\\\n \\\\\\\\u2022 Platform: Multi-platform\\\\\\\\n\\\\\\\\n \\\\\\\\u2022 Release Date: November 11, 2011\\\\\\\\n\\\\\\\\n \\\\\\\\u2022 Developer: Bethesda Game Studios\\\\\\\\n\\\\\\\\n \\\\\\\\u2022 Publisher: Bethesda Softworks\\\\\\\\n\\\\\\\\n### 24. The Sims\\\\\\\\n\\\\\\\\n   Sales: 40,000,000\\\\\\\\n\\\\\\\\n \\\\\\\\u2022 Platform: Multi-platform\\\\\\\\n\\\\\\\\n \\\\\\\\u2022 Release Date: February 4, 2000\\\\\\\\n\\\\\\\\n \\\\\\\\u2022 Developer: Maxis [...] ### 14. Pok\\\\\\\\u00e9mon Red / Green / Blue / Yellow\\\\\\\\n\\\\\\\\n   Sales: 47,520,000\\\\\\\\n\\\\\\\\n \\\\\\\\u2022 Platform: Multi-platform\\\\\\\\n\\\\\\\\n \\\\\\\\u2022 Release Date: February 27, 1996\\\\\\\\n\\\\\\\\n \\\\\\\\u2022 Developer: Game Freak\\\\\\\\n\\\\\\\\n \\\\\\\\u2022 Publisher: Nintendo\\\\\\\\n\\\\\\\\n### 15. Animal Crossing: New Horizons\\\\\\\\n\\\\\\\\n   Sales: 47,440,000\\\\\\\\n\\\\\\\\n \\\\\\\\u2022 Platform: Nintendo Switch\\\\\\\\n\\\\\\\\n \\\\\\\\u2022 Release Date: March 20, 2020\\\\\\\\n\\\\\\\\n \\\\\\\\u2022 Developer: Nintendo EPD\\\\\\\\n\\\\\\\\n \\\\\\\\u2022 Publisher: Nintendo\\\\\\\\n\\\\\\\\n### 16. Wii Fit / Plus\\\\\\\\n\\\\\\\\n   Sales: 43,800,000\\\\\\\\n\\\\\\\\n \\\\\\\\u2022 Platform: Wii\\\\\\\\n\\\\\\\\n \\\\\\\\u2022 Release Date: December 1, 2007\\\\\\\\n\\\\\\\\n \\\\\\\\u2022 Developer: Nintendo EAD\\\\\", \\\\\"score\\\\\": 0.7062922}\", \"{\\\\\"title\\\\\": \\\\\"List of best-selling video games - Wikipedia\\\\\", \\\\\"url\\\\\": \\\\\"https://en.wikipedia.org/wiki/List_of_best-selling_video_games\\\\\", \\\\\"content\\\\\": \\\\\"This is a list of fifty video games that have verifiably sold the highest number of software units worldwide. The best-selling video game to date is _Minecraft_, a 2011 multi-platform sandbox game released by Mojang. In October 2023, it became the first video game to sell over 300 million copies.( Its closest competitor, _Grand Theft Auto V_, is the only other video game to have reached both 100 and 200 million copies. The best-selling single-platform game is _Wii Sports_, with nearly 83 [...] Overview of best-selling video games| Title | Sales | Series | Platform(s) | Initial release date | Developer(s)( | Publisher(s)( | Ref. |\\\\\\\\n| --- | --- | --- | --- | --- | --- | --- | --- |\\\\\\\\n| _Minecraft_ | 350,000,000 | _Minecraft \\\\\\\\\\\\\"Minecraft (franchise)\\\\\\\\\\\\\")_ | Multi-platform | November 18, 2011( | Mojang Studios | Mojang Studios / Xbox Game Studios | ( |\\\\\\\\n| _Grand Theft Auto V_ | 215,000,000 | _Grand Theft Auto_ | Multi-platform | September 17, 2013 | Rockstar North | Rockstar Games | ( |\\\\\", \\\\\"score\\\\\": 0.6914979}\", \"{\\\\\"title\\\\\": \\\\\"Top 10 Best-Selling Video Games Of All Time - GameSpot\\\\\", \\\\\"url\\\\\": \\\\\"https://www.gamespot.com/gallery/top-10-best-selling-video-games-of-all-time/2900-4814/\\\\\", \\\\\"content\\\\\": \\\\\"Image 14: 1. Tetris -- 520 million (pack-in sales included)\\\\\\\\n\\\\\\\\n### 1. Tetris -- 520 million (pack-in sales included)\\\\\\\\n\\\\\\\\nAccording to the official Tetris website, the iconic puzzle game has exceeded 520 million in sales over its lifetime, with \\\\\\\\\\\\\"billions\\\\\\\\\\\\\" of sessions played online every year. The 520 million surely includes combined sales of the many different versions of the year released over the years. [...] #### Final Fantasy Magic: The Gathering Decks And Booster Bundles Restocked At Amazon\\\\\\\\n\\\\\\\\nImage 4: Summer Game Fest Live 2025: All The Biggest Announcements And Games\\\\\\\\n\\\\\\\\n#### Summer Game Fest Live 2025: All The Biggest Announcements And Games\\\\\\\\n\\\\\\\\nImage 5: 10: Super Mario Bros. -- 50 million (pack-in sales included)\\\\\\\\n\\\\\\\\n### 10: Super Mario Bros. -- 50 million (pack-in sales included) [...] Image 13: 2. Minecraft -- 300 million\\\\\\\\n\\\\\\\\n### 2. Minecraft -- 300 million\\\\\", \\\\\"score\\\\\": 0.6501347}\"]}', tool_call_id='call_hYRbwRTtDaq0Y3txSQ21iZct', name='game_web_search_tool'),\n",
       " AIMessage(role='assistant', content=None, tool_calls=[ChatCompletionMessageFunctionToolCall(id='call_5EAMP2iuemyjbEz13VKqrZLG', function=Function(arguments='{\"query\": \"biggest game release of all time\", \"retrieved_docs\": [\"The 10 Best-Selling Video Games of All Time - IGN\", \"List of highest-grossing video games\", \"The 50 Best-Selling Games of All Time: Ranked by Units Sold\", \"List of best-selling video games - Wikipedia\", \"Top 10 Best-Selling Video Games Of All Time - GameSpot\"]}', name='evaluate_retrieval_tool'), type='function'), ChatCompletionMessageFunctionToolCall(id='call_CRkvC8V2NCarDvpCA2quvQ5m', function=Function(arguments='{\"query\": \"biggest game release of all time\", \"retrieved_docs\": [\"List of highest-grossing video games\", \"List of best-selling video games - Wikipedia\"]}', name='evaluate_retrieval_tool'), type='function')], token_usage=None),\n",
       " ToolMessage(role='tool', content='[\"{\\\\n    \\\\\"useful\\\\\": true,\\\\n    \\\\\"description\\\\\": \\\\\"The documents provided contain lists and rankings of the best-selling video games of all time, which directly relate to the query about the biggest game release of all time. These documents are likely to include information on sales figures and possibly the titles of the games that have achieved the highest sales, which would help in identifying the biggest game release.\\\\\",\\\\n    \\\\\"relevant_info\\\\\": \\\\\"The biggest game release of all time is typically identified by its sales figures, which can be found in the documents listed, particularly in the IGN and Wikipedia entries.\\\\\"\\\\n}\"]', tool_call_id='call_5EAMP2iuemyjbEz13VKqrZLG', name='evaluate_retrieval_tool'),\n",
       " ToolMessage(role='tool', content='[\"{\\\\n    \\\\\"useful\\\\\": true,\\\\n    \\\\\"description\\\\\": \\\\\"The documents provided include lists of highest-grossing and best-selling video games, which are relevant to determining the biggest game release of all time. The term \\'biggest\\' can refer to either gross revenue or sales figures, and these documents cover both aspects. Therefore, they should contain the necessary information to answer the query.\\\\\",\\\\n    \\\\\"relevant_info\\\\\": \\\\\"The biggest game release of all time, based on sales, is \\'Minecraft\\' with over 200 million copies sold, while \\'Grand Theft Auto V\\' is often cited as the highest-grossing game in terms of revenue, exceeding $6 billion.\\\\\"\\\\n}\"]', tool_call_id='call_CRkvC8V2NCarDvpCA2quvQ5m', name='evaluate_retrieval_tool'),\n",
       " AIMessage(role='assistant', content=None, tool_calls=[ChatCompletionMessageFunctionToolCall(id='call_tx3ZLCV99wFp9yYt4XL0YOiU', function=Function(arguments='{\"final_response\":\"The biggest game release of all time, based on sales figures, is **Minecraft**, which has sold over 350 million copies as of October 2023. In terms of gross revenue, **Grand Theft Auto V** is the highest-grossing video game, having generated over $6 billion in revenue since its release.\",\"citations\":{\"1\":\"Wikipedia: https://en.wikipedia.org/wiki/List_of_best-selling_video_games\",\"2\":\"IGN: https://www.ign.com/articles/best-selling-video-games-of-all-time-grand-theft-auto-minecraft\"}}', name='final_answer_tool'), type='function')], token_usage=None),\n",
       " ToolMessage(role='tool', content='{\"answer\": {\"final_response\": \"The biggest game release of all time, based on sales figures, is **Minecraft**, which has sold over 350 million copies as of October 2023. In terms of gross revenue, **Grand Theft Auto V** is the highest-grossing video game, having generated over $6 billion in revenue since its release.\", \"citations\": {\"1\": \"Wikipedia: https://en.wikipedia.org/wiki/List_of_best-selling_video_games\", \"2\": \"IGN: https://www.ign.com/articles/best-selling-video-games-of-all-time-grand-theft-auto-minecraft\"}}}', tool_call_id='call_tx3ZLCV99wFp9yYt4XL0YOiU', name='final_answer_tool'),\n",
       " AIMessage(role='assistant', content='The biggest game release of all time, based on sales figures, is **Minecraft**, which has sold over 350 million copies as of October 2023. In terms of gross revenue, **Grand Theft Auto V** is the highest-grossing video game, having generated over $6 billion in revenue since its release.\\n\\nFor more detailed information, you can check out the sources: \\n1. Wikipedia: [List of best-selling video games](https://en.wikipedia.org/wiki/List_of_best-selling_video_games)\\n2. IGN: [The 10 Best-Selling Video Games of All Time](https://www.ign.com/articles/best-selling-video-games-of-all-time-grand-theft-auto-minecraft)', tool_calls=None, token_usage=None),\n",
       " UserMessage(role='user', content='What was the second?'),\n",
       " AIMessage(role='assistant', content=None, tool_calls=[ChatCompletionMessageFunctionToolCall(id='call_iikO67GLYZznEJSusRBOk27j', function=Function(arguments='{\"query\":\"second biggest game release of all time\"}', name='game_web_search_tool'), type='function')], token_usage=None),\n",
       " ToolMessage(role='tool', content='{\"answer\": [\"{\\\\\"title\\\\\": \\\\\"Top 10 Best-Selling Video Games Of All Time - GameSpot\\\\\", \\\\\"url\\\\\": \\\\\"https://www.gamespot.com/gallery/top-10-best-selling-video-games-of-all-time/2900-4814/\\\\\", \\\\\"content\\\\\": \\\\\"Image 13: 2. Minecraft -- 300 million\\\\\\\\n\\\\\\\\n### 2. Minecraft -- 300 million [...] Of course Minecraft is on this list. It\\'s the No. 2 best-selling game of all time. As of 2023, the game had sold more than 300 million copies, according to franchise owner Microsoft. According to the company, a copy of the game has been sold in just about every country and territory in the world, and that includes Antarctica and Vatican City. The game was created by Markus \\\\\\\\\\\\\"Notch\\\\\\\\\\\\\" Persson, who would go on to sell the game and his stake in developer Mojang to Microsoft in 2014 for $2.5 billion. [...] Image 8: 7. Red Dead Redemption II -- 74 million\\\\\\\\n\\\\\\\\n### 7. Red Dead Redemption II -- 74 million\\\\\", \\\\\"score\\\\\": 0.6685563}\", \"{\\\\\"title\\\\\": \\\\\"The 10 Best-Selling Video Games of All Time - IGN\\\\\", \\\\\"url\\\\\": \\\\\"https://www.ign.com/articles/best-selling-video-games-of-all-time-grand-theft-auto-minecraft-tetris\\\\\", \\\\\"content\\\\\": \\\\\"GTA 5 was the fastest entertainment release from any medium to reach $1 billion in retail sales \\\\\\\\u2014 and it\\\\\\\\u2019s since earned Rockstar and Take-Two billions more, making it the most profitable entertainment release _ever_, at least as of 2018. Total sales for the franchise sit at 430 million units sold.\\\\\\\\n\\\\\\\\nGTA 6 is now in development and due out in Fall 2025.\\\\\\\\n\\\\\\\\n2. Minecraft \\\\\\\\u2013 300 million\\\\\\\\n--------------------------\\\\\\\\n\\\\\\\\nImage 17: A look at the Minecraft Realms add-on.\\\\\\\\n\\\\\\\\nImage credit: Mojang Studios [...] Image 4: <h3>9. Terraria \\\\\\\\u2013 58.7 million</h3>\\\\\\\\nPerhaps the biggest surprise on this list is Terraria, the hit 2D sandbox game from developer Re-Logic. As of June 2024, 58.7 million copies of Terraria have been sold, according to the developer, with 32 million on PC alone.\\\\\\\\n\\\\\\\\nView 10 Images [...] After years of silence regarding sales numbers, Bethesda\\'s Todd Howard revealed in June 2023 that the RPG has sold over 60 million units since it was first released in 2011. \\\\\\\\\\\\\"We\\\\\\\\u2019re sitting here, it\\\\\\\\u2019s 12 years after Skyrim,\\\\\\\\\\\\\" Skyrim. \\\\\\\\\\\\\"We\\\\\\\\u2019re looking at a game that has over 60 million copies, and all these people playing\\\\\\\\u2026 they\\\\\\\\u2019re still playing it.\\\\\\\\\\\\\"\\\\\\\\n\\\\\\\\n_See our guide to__every Skyrim edition__._\\\\\\\\n\\\\\\\\n7. Red Dead Redemption 2 \\\\\\\\u2013 64 million\\\\\\\\n-------------------------------------\\\\\", \\\\\"score\\\\\": 0.64986813}\", \"{\\\\\"title\\\\\": \\\\\"Best Games of All Time - Metacritic\\\\\", \\\\\"url\\\\\": \\\\\"https://www.metacritic.com/browse/game/\\\\\", \\\\\"content\\\\\": \\\\\"X\\\\\\\\n\\\\\\\\nClose Ad\\\\\\\\n\\\\\\\\n# Best Games of All Time\\\\\\\\n\\\\\\\\nFind your next game for any platform. Filter by platform, genre, or release year.\\\\\\\\n\\\\\\\\n Games\\\\\\\\n Movies\\\\\\\\n TV Shows\\\\\\\\n\\\\\\\\n13,821 results\\\\\\\\n\\\\\\\\nMetascore\\\\\\\\n\\\\\\\\nMetascore\\\\\\\\n\\\\\\\\nUser Score\\\\\\\\n\\\\\\\\nNewest Releases\\\\\\\\n\\\\\\\\n13,821 results\\\\\\\\n\\\\\\\\n### 1. The Legend of Zelda: Ocarina of Time\\\\\\\\n\\\\\\\\nNov 23, 1998\\\\\\\\n \\\\\\\\n \\\\\\\\u2022 \\\\\\\\n Rated E [...] for how players approach and manipulate their environment \\\\\\\\u2013 much like how Half-Life 2\\'s Gravity Gun reinvented the way gamers interact with objects in the game. Team Fortress 2 - an all-new version of the legendary title that spawned team based multiplayer action games. The game\\'s daring new art style features the most advanced graphics of any Source-based game released to date. [Valve Software] [...] ### 13. Super Mario Odyssey\\\\\\\\n\\\\\\\\nOct 27, 2017\\\\\\\\n \\\\\\\\n \\\\\\\\u2022 \\\\\\\\n Rated E10+\\\\\\\\n\\\\\\\\nNew Evolution of Mario Sandbox-Style Gameplay. Mario embarks on a new journey through unknown worlds, running and jumping through huge 3D worlds in the first sandbox-style Mario game since Super Mario 64 and Super Mario Sunshine. Set sail between expansive worlds aboard an airship, and perform all-new actions, such as throwing Mario\\'s cap.\\\\\\\\n\\\\\\\\n97\\\\\\\\n\\\\\\\\nMetascore\\\\\\\\n\\\\\\\\n[### 14. Halo: Combat Evolved\\\\\\\\n\\\\\\\\nNov 15, 2001\\\\\\\\n \\\\\\\\n \\\\\\\\u2022 \\\\\\\\n Rated M\\\\\", \\\\\"score\\\\\": 0.58948064}\", \"{\\\\\"title\\\\\": \\\\\"I aggregated more than 700 greatest games lists. Here are the results.\\\\\", \\\\\"url\\\\\": \\\\\"https://www.reddit.com/r/gaming/comments/1e30pcx/i_aggregated_more_than_700_greatest_games_lists/\\\\\", \\\\\"content\\\\\": \\\\\"3.   1994, 2012 (33 games)\\\\\\\\n\\\\\\\\n4.   1993, 2006, 2010, 2011, 2017 (31 games)\\\\\\\\n\\\\\\\\n5.   1997, 2016 (30 games)\\\\\\\\n\\\\\\\\nYears with the most games (top 100):\\\\\\\\n\\\\\\\\n1.   1998, 2000, 2001, 2007, 2011, 2015 (5 games)\\\\\\\\n\\\\\\\\n2.   1996, 2004, 2008, 2016 (4 games)\\\\\\\\n\\\\\\\\nFirst year to reach X games:\\\\\\\\n\\\\\\\\n1.   2017: 1. The Legend of Zelda: Breath of the Wild\\\\\\\\n\\\\\\\\n2.   2005: 8. Resident Evil 4, 15. Shadow of the Colossus\\\\\\\\n\\\\\\\\n3.   2011: 10. The Elder Scrolls V; Skyrim, 18. Portal 2, 29. Dark Souls\\\\\\\\n\\\\\\\\n4.   2011: + 36. Minecraft [...] The Results\\\\\\\\n===========\\\\\\\\n\\\\\\\\nThe full list goes all the way to 1000 and can be found here:  Copying the entire list would take up far too much space, but here\\'s the top 100:\\\\\\\\n\\\\\\\\n1.   The Legend of Zelda: Breath of the Wild (2017)\\\\\\\\n\\\\\\\\n2.   The Last of Us (2013)\\\\\\\\n\\\\\\\\n3.   Tetris (1985)\\\\\\\\n\\\\\\\\n4.   Half-Life 2 (2004)\\\\\\\\n\\\\\\\\n5.   The Legend of Zelda: Ocarina of Time (1998)\\\\\\\\n\\\\\\\\n6.   The Witcher III: Wild Hunt (2015)\\\\\\\\n\\\\\\\\n7.   Super Mario 64 (1996)\\\\\\\\n\\\\\\\\n8.   Resident Evil 4 (2005)\\\\\\\\n\\\\\\\\n9.   BioShock (2007) [...] 4.   2010s: + 10. The Elder Scrolls V: Skyrim\\\\\\\\n\\\\\\\\n5.   2010s: + 12. Mass Effect 2\\\\\\\\n\\\\\\\\n6.   1990s: 5. The Legend of Zelda: Ocarina of Time, 7. Super Mario 64, 11. The Legend of Zelda: A Link to the Past, 13. Super Metroid, 14. Super Mario World, 16. Final Fantasy VII\\\\\\\\n\\\\\\\\n7.   1990s: + 17. DOOM\\\\\\\\n\\\\\\\\n8.   1990s: + 20. Metal Gear Solid\\\\\\\\n\\\\\\\\n9.   1990s: + 24. Street Fighter II\\\\\\\\n\\\\\\\\n10.   1990s: + 27. Chrono Trigger\\\\\\\\n\\\\\\\\nYears with the most games (top 1000):\\\\\\\\n\\\\\\\\n1.   1999 (37 games)\\\\\\\\n\\\\\\\\n2.   2004 (36 games)\\\\\", \\\\\"score\\\\\": 0.55623144}\", \"{\\\\\"title\\\\\": \\\\\"List of best-selling video games - Wikipedia\\\\\", \\\\\"url\\\\\": \\\\\"https://en.wikipedia.org/wiki/List_of_best-selling_video_games\\\\\", \\\\\"content\\\\\": \\\\\"This is a list of fifty video games that have verifiably sold the highest number of software units worldwide. The best-selling video game to date is _Minecraft_, a 2011 multi-platform sandbox game released by Mojang. In October 2023, it became the first video game to sell over 300 million copies.( Its closest competitor, _Grand Theft Auto V_, is the only other video game to have reached both 100 and 200 million copies. The best-selling single-platform game is _Wii Sports_, with nearly 83 [...] Overview of best-selling video games| Title | Sales | Series | Platform(s) | Initial release date | Developer(s)( | Publisher(s)( | Ref. |\\\\\\\\n| --- | --- | --- | --- | --- | --- | --- | --- |\\\\\\\\n| _Minecraft_ | 350,000,000 | _Minecraft \\\\\\\\\\\\\"Minecraft (franchise)\\\\\\\\\\\\\")_ | Multi-platform | November 18, 2011( | Mojang Studios | Mojang Studios / Xbox Game Studios | ( |\\\\\\\\n| _Grand Theft Auto V_ | 215,000,000 | _Grand Theft Auto_ | Multi-platform | September 17, 2013 | Rockstar North | Rockstar Games | ( | [...] 3.   ^Makuch, Eddie (July 21, 2023). \\\\\\\\\\\\\"Top 10 Best-Selling Video Games Of All Time\\\\\\\\\\\\\". _GameSpot_. Archived from the original on July 21, 2023. Retrieved April 1, 2025.\\\\\\\\n4.   ^Collins, Robert (October 16, 2023). \\\\\\\\\\\\\"Minecraft becomes the first video game to sell 300 million copies\\\\\\\\\\\\\". _Windows Report_. Archived from the original on October 16, 2023. Retrieved April 1, 2025.\\\\\\\\n5.   ^\\\\\\\\\\\\\"About Tetris\\\\\\\\u00ae\\\\\\\\\\\\\". _The Tetris Company_. Archived from the original on March 27, 2025. Retrieved April 1, 2025.\\\\\", \\\\\"score\\\\\": 0.53065056}\"]}', tool_call_id='call_iikO67GLYZznEJSusRBOk27j', name='game_web_search_tool'),\n",
       " AIMessage(role='assistant', content=None, tool_calls=[ChatCompletionMessageFunctionToolCall(id='call_TpIumtOoXKchriXj4ZHFjGEE', function=Function(arguments='{\"query\": \"second biggest game release of all time\", \"retrieved_docs\": [\"Top 10 Best-Selling Video Games Of All Time - GameSpot\", \"The 10 Best-Selling Video Games of All Time - IGN\", \"List of best-selling video games - Wikipedia\"]}', name='evaluate_retrieval_tool'), type='function'), ChatCompletionMessageFunctionToolCall(id='call_IHAGe701AHSqxSxdY0WlJIIv', function=Function(arguments='{\"query\": \"second biggest game release of all time\", \"retrieved_docs\": [\"List of best-selling video games - Wikipedia\", \"Top 10 Best-Selling Video Games Of All Time - GameSpot\"]}', name='evaluate_retrieval_tool'), type='function')], token_usage=None),\n",
       " ToolMessage(role='tool', content='[\"{\\\\n    \\\\\"useful\\\\\": true,\\\\n    \\\\\"description\\\\\": \\\\\"The documents provided contain lists of best-selling video games, which typically include information about the biggest game releases of all time. Since the query asks for the second biggest game release, these documents are likely to contain the necessary information to identify which game holds that position based on sales figures.\\\\\",\\\\n    \\\\\"relevant_info\\\\\": \\\\\"The second biggest game release of all time is Grand Theft Auto V, based on sales figures.\\\\\"\\\\n}\"]', tool_call_id='call_TpIumtOoXKchriXj4ZHFjGEE', name='evaluate_retrieval_tool'),\n",
       " ToolMessage(role='tool', content='[\"{\\\\n    \\\\\"useful\\\\\": true,\\\\n    \\\\\"description\\\\\": \\\\\"The documents provided include a Wikipedia page and a GameSpot article that likely contain information about the best-selling video games of all time. Since the query asks for the second biggest game release, these sources should provide a ranking or list that includes the top-selling games, allowing us to identify the second biggest release.\\\\\",\\\\n    \\\\\"relevant_info\\\\\": \\\\\"The second biggest game release of all time is Grand Theft Auto V, following Minecraft.\\\\\"\\\\n}\"]', tool_call_id='call_IHAGe701AHSqxSxdY0WlJIIv', name='evaluate_retrieval_tool'),\n",
       " AIMessage(role='assistant', content=None, tool_calls=[ChatCompletionMessageFunctionToolCall(id='call_0Ru7PZFdifHTk3yD9OJuOZew', function=Function(arguments='{\"final_response\":\"The second biggest game release of all time is **Grand Theft Auto V**, with over 215 million copies sold as of October 2023. It is also recognized as the highest-grossing video game in terms of revenue, exceeding $6 billion.\",\"citations\":{\"1\":\"Wikipedia: https://en.wikipedia.org/wiki/List_of_best-selling_video_games\",\"2\":\"GameSpot: https://www.gamespot.com/gallery/top-10-best-selling-video-games-of-all-time/2900-4814/\"}}', name='final_answer_tool'), type='function')], token_usage=None),\n",
       " ToolMessage(role='tool', content='{\"answer\": {\"final_response\": \"The second biggest game release of all time is **Grand Theft Auto V**, with over 215 million copies sold as of October 2023. It is also recognized as the highest-grossing video game in terms of revenue, exceeding $6 billion.\", \"citations\": {\"1\": \"Wikipedia: https://en.wikipedia.org/wiki/List_of_best-selling_video_games\", \"2\": \"GameSpot: https://www.gamespot.com/gallery/top-10-best-selling-video-games-of-all-time/2900-4814/\"}}}', tool_call_id='call_0Ru7PZFdifHTk3yD9OJuOZew', name='final_answer_tool'),\n",
       " AIMessage(role='assistant', content='The second biggest game release of all time is **Grand Theft Auto V**, with over 215 million copies sold as of October 2023. It is also recognized as the highest-grossing video game in terms of revenue, exceeding $6 billion.\\n\\nFor more information, you can refer to the following sources:\\n1. Wikipedia: [List of best-selling video games](https://en.wikipedia.org/wiki/List_of_best-selling_video_games)\\n2. GameSpot: [Top 10 Best-Selling Video Games Of All Time](https://www.gamespot.com/gallery/top-10-best-selling-video-games-of-all-time/2900-4814/)', tool_calls=None, token_usage=None)]"
      ]
     },
     "execution_count": 411,
     "metadata": {},
     "output_type": "execute_result"
    }
   ],
   "source": [
    "result_6.get_final_state()['messages']"
   ]
  },
  {
   "cell_type": "code",
   "execution_count": 412,
   "id": "d289740d-98aa-4917-8ac3-58bbc759d348",
   "metadata": {},
   "outputs": [
    {
     "data": {
      "text/plain": [
       "'{\"answer\": {\"final_response\": \"The second biggest game release of all time is **Grand Theft Auto V**, with over 215 million copies sold as of October 2023. It is also recognized as the highest-grossing video game in terms of revenue, exceeding $6 billion.\", \"citations\": {\"1\": \"Wikipedia: https://en.wikipedia.org/wiki/List_of_best-selling_video_games\", \"2\": \"GameSpot: https://www.gamespot.com/gallery/top-10-best-selling-video-games-of-all-time/2900-4814/\"}}}'"
      ]
     },
     "execution_count": 412,
     "metadata": {},
     "output_type": "execute_result"
    }
   ],
   "source": [
    "result_6.get_final_state()['messages'][-2].content"
   ]
  },
  {
   "cell_type": "markdown",
   "id": "f0a55081",
   "metadata": {},
   "source": [
    "### (Optional) Advanced"
   ]
  },
  {
   "cell_type": "code",
   "execution_count": 398,
   "id": "eb83fbb1",
   "metadata": {},
   "outputs": [],
   "source": [
    "# TODO: Update your agent with long-term memory\n",
    "# TODO: Convert the agent to be a state machine, with the tools being pre-defined nodes"
   ]
  }
 ],
 "metadata": {
  "kernelspec": {
   "display_name": "Python 3 (ipykernel)",
   "language": "python",
   "name": "python3"
  },
  "language_info": {
   "codemirror_mode": {
    "name": "ipython",
    "version": 3
   },
   "file_extension": ".py",
   "mimetype": "text/x-python",
   "name": "python",
   "nbconvert_exporter": "python",
   "pygments_lexer": "ipython3",
   "version": "3.11.7"
  }
 },
 "nbformat": 4,
 "nbformat_minor": 5
}
