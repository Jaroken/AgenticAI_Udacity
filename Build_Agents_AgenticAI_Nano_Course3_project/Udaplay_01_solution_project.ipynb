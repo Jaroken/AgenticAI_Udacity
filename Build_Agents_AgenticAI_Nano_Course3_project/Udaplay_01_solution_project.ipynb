{
 "cells": [
  {
   "cell_type": "markdown",
   "id": "6fdd0bcb",
   "metadata": {},
   "source": [
    "# [STARTER] Udaplay Project"
   ]
  },
  {
   "cell_type": "markdown",
   "id": "9325b035",
   "metadata": {},
   "source": [
    "## Part 01 - Offline RAG\n",
    "\n",
    "In this part of the project, you'll build your VectorDB using Chroma.\n",
    "\n",
    "The data is inside folder `project/starter/games`. Each file will become a document in the collection you'll create.\n",
    "Example.:\n",
    "```json\n",
    "{\n",
    "  \"Name\": \"Gran Turismo\",\n",
    "  \"Platform\": \"PlayStation 1\",\n",
    "  \"Genre\": \"Racing\",\n",
    "  \"Publisher\": \"Sony Computer Entertainment\",\n",
    "  \"Description\": \"A realistic racing simulator featuring a wide array of cars and tracks, setting a new standard for the genre.\",\n",
    "  \"YearOfRelease\": 1997\n",
    "}\n",
    "```\n"
   ]
  },
  {
   "cell_type": "markdown",
   "id": "2b42de90",
   "metadata": {},
   "source": [
    "### Setup"
   ]
  },
  {
   "cell_type": "code",
   "execution_count": 12,
   "id": "61283b25",
   "metadata": {},
   "outputs": [],
   "source": [
    "# Only needed for Udacity workspace\n",
    "\n",
    "import importlib.util\n",
    "import sys\n",
    "\n",
    "# Check if 'pysqlite3' is available before importing\n",
    "if importlib.util.find_spec(\"pysqlite3\") is not None:\n",
    "    import pysqlite3\n",
    "    sys.modules['sqlite3'] = sys.modules.pop('pysqlite3')"
   ]
  },
  {
   "cell_type": "code",
   "execution_count": 13,
   "id": "a8d56169",
   "metadata": {},
   "outputs": [],
   "source": [
    "import os\n",
    "import json\n",
    "import chromadb\n",
    "from chromadb.utils import embedding_functions\n",
    "from dotenv import load_dotenv"
   ]
  },
  {
   "cell_type": "code",
   "execution_count": 14,
   "id": "fd10c06e",
   "metadata": {},
   "outputs": [],
   "source": [
    "# TODO: Create a .env file with the following variables\n",
    "# OPENAI_API_KEY=\"YOUR_KEY\"\n",
    "# CHROMA_OPENAI_API_KEY=\"YOUR_KEY\"\n",
    "# TAVILY_API_KEY=\"YOUR_KEY\""
   ]
  },
  {
   "cell_type": "code",
   "execution_count": 15,
   "id": "87e465d4",
   "metadata": {},
   "outputs": [],
   "source": [
    "# TODO: Load environment variables\n",
    "from dotenv import load_dotenv\n",
    "import os \n",
    "\n",
    "load_dotenv('.env')\n",
    "assert os.getenv('OPENAI_API_KEY') is not None\n",
    "assert os.getenv('TAVILY_API_KEY') is not None"
   ]
  },
  {
   "cell_type": "markdown",
   "id": "27de4729",
   "metadata": {},
   "source": [
    "### VectorDB Instance"
   ]
  },
  {
   "cell_type": "code",
   "execution_count": 16,
   "id": "b25c36dd",
   "metadata": {},
   "outputs": [],
   "source": [
    "# TODO: Instantiate your ChromaDB Client\n",
    "# Choose any path you want\n",
    "chroma_client = chromadb.PersistentClient(path=\"chromadb\")"
   ]
  },
  {
   "cell_type": "code",
   "execution_count": 17,
   "id": "d2eeef50-ceb9-4cf0-910b-c84d373730cf",
   "metadata": {},
   "outputs": [],
   "source": [
    "try:\n",
    "    chroma_client.delete_collection(name=\"udaplay\")\n",
    "except:\n",
    "    None"
   ]
  },
  {
   "cell_type": "markdown",
   "id": "df844b3b",
   "metadata": {},
   "source": [
    "### Collection"
   ]
  },
  {
   "cell_type": "code",
   "execution_count": 18,
   "id": "31c56281",
   "metadata": {},
   "outputs": [],
   "source": [
    "# TODO: Pick one embedding function\n",
    "# If picking something different than openai, \n",
    "# make sure you use the same when loading it\n",
    "embedding_fn = embedding_functions.OpenAIEmbeddingFunction(api_key=os.getenv('OPENAI_API_KEY'),\n",
    "                api_base=\"https://openai.vocareum.com/v1\")"
   ]
  },
  {
   "cell_type": "code",
   "execution_count": 19,
   "id": "0ec23893",
   "metadata": {},
   "outputs": [],
   "source": [
    "# TODO: Create a collection\n",
    "# Choose any name you want\n",
    "collection = chroma_client.create_collection(\n",
    "   name=\"udaplay\",\n",
    "   embedding_function=embedding_fn\n",
    ")"
   ]
  },
  {
   "cell_type": "markdown",
   "id": "f0a55081",
   "metadata": {},
   "source": [
    "### Add documents"
   ]
  },
  {
   "cell_type": "code",
   "execution_count": 20,
   "id": "eb83fbb1",
   "metadata": {},
   "outputs": [
    {
     "name": "stdout",
     "output_type": "stream",
     "text": [
      "Looking in games for files\n",
      "found 15 files\n",
      "processing file #1 :: 001.json ...starting\n",
      "processing file #1 :: 001.json ...complete!\n",
      "processing file #2 :: 002.json ...starting\n",
      "processing file #2 :: 002.json ...complete!\n",
      "processing file #3 :: 003.json ...starting\n",
      "processing file #3 :: 003.json ...complete!\n",
      "processing file #4 :: 004.json ...starting\n",
      "processing file #4 :: 004.json ...complete!\n",
      "processing file #5 :: 005.json ...starting\n",
      "processing file #5 :: 005.json ...complete!\n",
      "processing file #6 :: 006.json ...starting\n",
      "processing file #6 :: 006.json ...complete!\n",
      "processing file #7 :: 007.json ...starting\n",
      "processing file #7 :: 007.json ...complete!\n",
      "processing file #8 :: 008.json ...starting\n",
      "processing file #8 :: 008.json ...complete!\n",
      "processing file #9 :: 009.json ...starting\n",
      "processing file #9 :: 009.json ...complete!\n",
      "processing file #10 :: 010.json ...starting\n",
      "processing file #10 :: 010.json ...complete!\n",
      "processing file #11 :: 011.json ...starting\n",
      "processing file #11 :: 011.json ...complete!\n",
      "processing file #12 :: 012.json ...starting\n",
      "processing file #12 :: 012.json ...complete!\n",
      "processing file #13 :: 013.json ...starting\n",
      "processing file #13 :: 013.json ...complete!\n",
      "processing file #14 :: 014.json ...starting\n",
      "processing file #14 :: 014.json ...complete!\n",
      "processing file #15 :: 015.json ...starting\n",
      "processing file #15 :: 015.json ...complete!\n",
      "15/15 files processed successfully.\n"
     ]
    }
   ],
   "source": [
    "# Make sure you have a directory \"project/starter/games\"\n",
    "data_dir = \"games\"\n",
    "print(f'Looking in {data_dir} for files')\n",
    "files_to_load = sorted(os.listdir(data_dir))\n",
    "print(f'found {len(files_to_load)} files')\n",
    "\n",
    "x=1\n",
    "for file_name in files_to_load:\n",
    "    try:\n",
    "        print(f'processing file #{x} :: {file_name} ...starting')\n",
    "        if not file_name.endswith(\".json\"):\n",
    "            continue\n",
    "    \n",
    "        file_path = os.path.join(data_dir, file_name)\n",
    "        with open(file_path, \"r\", encoding=\"utf-8\") as f:\n",
    "            game = json.load(f)\n",
    "    \n",
    "        # You can change what text you want to index\n",
    "        content = f\"[{game['Platform']}] {game['Name']} ({game['YearOfRelease']}) - {game['Description']}\"\n",
    "    \n",
    "        # Use file name (like 001) as ID\n",
    "        doc_id = os.path.splitext(file_name)[0]\n",
    "    \n",
    "        collection.add(\n",
    "            ids=[doc_id],\n",
    "            documents=[content],\n",
    "            metadatas=[game]\n",
    "        )\n",
    "        print(f'processing file #{x} :: {file_name} ...complete!')\n",
    "        x=x+1\n",
    "    except:\n",
    "        print(f'processing file #{x} :: {file_name} ...!FAILED!')\n",
    "\n",
    "print(f'{x-1}/{len(files_to_load)} files processed successfully.')\n",
    "    "
   ]
  },
  {
   "cell_type": "markdown",
   "id": "48d86b37-b1c0-4f2b-b975-fbd5690d5371",
   "metadata": {},
   "source": [
    "### Implement semantic search functionality"
   ]
  },
  {
   "cell_type": "code",
   "execution_count": 21,
   "id": "4fc0afb5-94f7-48bd-b459-f8089596571b",
   "metadata": {},
   "outputs": [],
   "source": [
    "def semantic_search_func(query, collection, n_results=1):  \n",
    "    \"\"\"\n",
    "    A function to help query n number of results from the collection for specific matches to a query input.\n",
    "    params:\n",
    "    query: The query to match to (str)\n",
    "    collection: The collection object (obj) (e.g. chromadb)\n",
    "    n_results: The number of results to return (int)\n",
    "    returns: results  objects from collection and prints results as well.\n",
    "    \"\"\"\n",
    "    result = collection.query(\n",
    "        query_texts=[query],\n",
    "        n_results=n_results,\n",
    "        include=['documents', 'distances', 'metadatas'])\n",
    "\n",
    "    # Print results\n",
    "    try:\n",
    "        print(f\"______________ {query} _______________\")\n",
    "        print(f\"{len(result['documents'][0])} matches found.\\n\")\n",
    "        for i, (d, dist, meta) in enumerate(zip(result['documents'][0],result['distances'][0],result['metadatas'][0])):\n",
    "            print(f'#{i+1}')\n",
    "            print(f\"Name: {meta['Name']}\")\n",
    "            print(f\"Platform: {meta['Platform']}\")\n",
    "            print(f\"Genre: {meta['Genre']}\")\n",
    "            print(f\"Publisher: {meta['Publisher']}\")\n",
    "            print(f\"Description: {meta['Description']}\")\n",
    "            print(f\"Year of Release: {meta['YearOfRelease']}\")\n",
    "            print(f\"Similarity Score: {round(1 - dist,2)}\")\n",
    "            print(\"\\n\")\n",
    "    except:\n",
    "        print(\"/n !!Error!! /n\")\n",
    "\n",
    "    # Return the results\n",
    "    return result\n",
    "\n"
   ]
  },
  {
   "cell_type": "code",
   "execution_count": 22,
   "id": "54e5b81a-9689-414c-b381-7bae646acf81",
   "metadata": {},
   "outputs": [
    {
     "name": "stdout",
     "output_type": "stream",
     "text": [
      "______________ when was the last halo? _______________\n",
      "1 matches found.\n",
      "\n",
      "#1\n",
      "Name: Halo Infinite\n",
      "Platform: Xbox Series X|S\n",
      "Genre: First-person shooter\n",
      "Publisher: Xbox Game Studios\n",
      "Description: The latest installment in the Halo franchise, featuring Master Chief's return in a new open-world setting.\n",
      "Year of Release: 2021\n",
      "Similarity Score: 0.81\n",
      "\n",
      "\n",
      "______________ mario racing games _______________\n",
      "1 matches found.\n",
      "\n",
      "#1\n",
      "Name: Mario Kart 8 Deluxe\n",
      "Platform: Nintendo Switch\n",
      "Genre: Racing\n",
      "Publisher: Nintendo\n",
      "Description: An enhanced version of Mario Kart 8, featuring new characters, tracks, and improved gameplay mechanics.\n",
      "Year of Release: 2017\n",
      "Similarity Score: 0.86\n",
      "\n",
      "\n",
      "______________ rockstar game _______________\n",
      "1 matches found.\n",
      "\n",
      "#1\n",
      "Name: Grand Theft Auto: San Andreas\n",
      "Platform: PlayStation 2\n",
      "Genre: Action-adventure\n",
      "Publisher: Rockstar Games\n",
      "Description: An expansive open-world game set in the fictional state of San Andreas, following the story of Carl 'CJ' Johnson.\n",
      "Year of Release: 2004\n",
      "Similarity Score: 0.83\n",
      "\n",
      "\n",
      "______________ sports _______________\n",
      "1 matches found.\n",
      "\n",
      "#1\n",
      "Name: Wii Sports\n",
      "Platform: Wii\n",
      "Genre: Sports\n",
      "Publisher: Nintendo\n",
      "Description: A collection of sports games that utilize the Wii's motion controls, bundled with the console to showcase its capabilities.\n",
      "Year of Release: 2006\n",
      "Similarity Score: 0.81\n",
      "\n",
      "\n"
     ]
    },
    {
     "data": {
      "text/plain": [
       "[{'ids': [['015']],\n",
       "  'embeddings': None,\n",
       "  'documents': [[\"[Xbox Series X|S] Halo Infinite (2021) - The latest installment in the Halo franchise, featuring Master Chief's return in a new open-world setting.\"]],\n",
       "  'uris': None,\n",
       "  'included': ['documents', 'distances', 'metadatas'],\n",
       "  'data': None,\n",
       "  'metadatas': [[{'Platform': 'Xbox Series X|S',\n",
       "     'Description': \"The latest installment in the Halo franchise, featuring Master Chief's return in a new open-world setting.\",\n",
       "     'Publisher': 'Xbox Game Studios',\n",
       "     'YearOfRelease': 2021,\n",
       "     'Genre': 'First-person shooter',\n",
       "     'Name': 'Halo Infinite'}]],\n",
       "  'distances': [[0.18839609622955322]]},\n",
       " {'ids': [['012']],\n",
       "  'embeddings': None,\n",
       "  'documents': [['[Nintendo Switch] Mario Kart 8 Deluxe (2017) - An enhanced version of Mario Kart 8, featuring new characters, tracks, and improved gameplay mechanics.']],\n",
       "  'uris': None,\n",
       "  'included': ['documents', 'distances', 'metadatas'],\n",
       "  'data': None,\n",
       "  'metadatas': [[{'Platform': 'Nintendo Switch',\n",
       "     'Name': 'Mario Kart 8 Deluxe',\n",
       "     'Genre': 'Racing',\n",
       "     'Publisher': 'Nintendo',\n",
       "     'YearOfRelease': 2017,\n",
       "     'Description': 'An enhanced version of Mario Kart 8, featuring new characters, tracks, and improved gameplay mechanics.'}]],\n",
       "  'distances': [[0.13926571607589722]]},\n",
       " {'ids': [['002']],\n",
       "  'embeddings': None,\n",
       "  'documents': [[\"[PlayStation 2] Grand Theft Auto: San Andreas (2004) - An expansive open-world game set in the fictional state of San Andreas, following the story of Carl 'CJ' Johnson.\"]],\n",
       "  'uris': None,\n",
       "  'included': ['documents', 'distances', 'metadatas'],\n",
       "  'data': None,\n",
       "  'metadatas': [[{'Genre': 'Action-adventure',\n",
       "     'Platform': 'PlayStation 2',\n",
       "     'Name': 'Grand Theft Auto: San Andreas',\n",
       "     'Description': \"An expansive open-world game set in the fictional state of San Andreas, following the story of Carl 'CJ' Johnson.\",\n",
       "     'Publisher': 'Rockstar Games',\n",
       "     'YearOfRelease': 2004}]],\n",
       "  'distances': [[0.16842830181121826]]},\n",
       " {'ids': [['011']],\n",
       "  'embeddings': None,\n",
       "  'documents': [[\"[Wii] Wii Sports (2006) - A collection of sports games that utilize the Wii's motion controls, bundled with the console to showcase its capabilities.\"]],\n",
       "  'uris': None,\n",
       "  'included': ['documents', 'distances', 'metadatas'],\n",
       "  'data': None,\n",
       "  'metadatas': [[{'Name': 'Wii Sports',\n",
       "     'Platform': 'Wii',\n",
       "     'Genre': 'Sports',\n",
       "     'YearOfRelease': 2006,\n",
       "     'Description': \"A collection of sports games that utilize the Wii's motion controls, bundled with the console to showcase its capabilities.\",\n",
       "     'Publisher': 'Nintendo'}]],\n",
       "  'distances': [[0.1931513547897339]]}]"
      ]
     },
     "execution_count": 22,
     "metadata": {},
     "output_type": "execute_result"
    }
   ],
   "source": [
    "queries = [\"when was the last halo?\",\"mario racing games\", \"rockstar game\", \"sports\"]\n",
    "[semantic_search_func(query, collection, n_results=1) for query in queries]"
   ]
  }
 ],
 "metadata": {
  "kernelspec": {
   "display_name": "Python 3 (ipykernel)",
   "language": "python",
   "name": "python3"
  },
  "language_info": {
   "codemirror_mode": {
    "name": "ipython",
    "version": 3
   },
   "file_extension": ".py",
   "mimetype": "text/x-python",
   "name": "python",
   "nbconvert_exporter": "python",
   "pygments_lexer": "ipython3",
   "version": "3.11.7"
  }
 },
 "nbformat": 4,
 "nbformat_minor": 5
}
